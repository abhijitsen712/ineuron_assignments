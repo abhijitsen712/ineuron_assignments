{
 "cells": [
  {
   "cell_type": "code",
   "execution_count": 8,
   "id": "d96087e3",
   "metadata": {},
   "outputs": [
    {
     "data": {
      "text/plain": [
       "18"
      ]
     },
     "execution_count": 8,
     "metadata": {},
     "output_type": "execute_result"
    }
   ],
   "source": [
    "\"\"\"\n",
    "Question1. Create a function that takes three arguments a, b, c and \n",
    "returns the sum of the numbers that are evenly divided by c from the range a, b inclusive.\n",
    "\n",
    "evenly_divisible(1, 10, 2) ➞ 30\n",
    "# 2 + 4 + 6 + 8 + 10 = 30\n",
    "\"\"\"\n",
    "\n",
    "def evenly_divisible(a,b,c):\n",
    "    sum = 0\n",
    "    i = 1\n",
    "    if c > a and c <= b:\n",
    "        while c*i <= b:\n",
    "            sum += c*i\n",
    "            i += 1\n",
    "        return sum\n",
    "    else:\n",
    "        print(\"No number between {} and {} which can be evenly divided by {}\".format(a,b,c))\n",
    "    \n",
    "evenly_divisible(1, 10, 3)"
   ]
  },
  {
   "cell_type": "code",
   "execution_count": 19,
   "id": "3a81a08a",
   "metadata": {},
   "outputs": [
    {
     "name": "stdout",
     "output_type": "stream",
     "text": [
      "True\n",
      "False\n"
     ]
    }
   ],
   "source": [
    "\"\"\"\n",
    "Question2. Create a function that returns True if a given inequality expression \n",
    "is correct and False otherwise\n",
    "#correct_signs(\"3 < 7 < 11\") ➞ True\n",
    "\"\"\"\n",
    "\n",
    "def correct_signs(exp):\n",
    "    if eval(exp):\n",
    "        print(True)\n",
    "    else:\n",
    "        print(False)\n",
    "correct_signs(\"3 < 7 < 11\")\n",
    "correct_signs(\"13 > 44 > 33 > 1\")"
   ]
  },
  {
   "cell_type": "code",
   "execution_count": 25,
   "id": "049e0b9f",
   "metadata": {},
   "outputs": [
    {
     "name": "stdout",
     "output_type": "stream",
     "text": [
      "th# ##rdv#r#k#\n"
     ]
    }
   ],
   "source": [
    "\"\"\"\n",
    "Question3. Create a function that replaces all the vowels in a string with a specified character.\n",
    "replace_vowels(\"the aardvark\", \"#\") ➞ \"th# ##rdv#rk\"\n",
    "\"\"\"\n",
    "def replace_vowels(string,char):\n",
    "    for i in ['a','e','i','o','u']:\n",
    "        string = string.replace(i,char)\n",
    "    print(string)\n",
    "replace_vowels(\"the aardvareki\", \"#\")"
   ]
  },
  {
   "cell_type": "code",
   "execution_count": 26,
   "id": "fb8063c5",
   "metadata": {},
   "outputs": [
    {
     "name": "stdout",
     "output_type": "stream",
     "text": [
      "120\n"
     ]
    }
   ],
   "source": [
    "\"\"\"\n",
    "Question4. Write a function that calculates the factorial of a number recursively\n",
    "\"\"\"\n",
    "\n",
    "def fact(num):\n",
    "    if num <= 1:\n",
    "        return 1\n",
    "    else:\n",
    "        return num*fact(num-1)\n",
    "print(fact(5))"
   ]
  },
  {
   "cell_type": "code",
   "execution_count": 29,
   "id": "2e4ca421",
   "metadata": {},
   "outputs": [
    {
     "name": "stdout",
     "output_type": "stream",
     "text": [
      "5\n",
      "1\n"
     ]
    }
   ],
   "source": [
    "\"\"\"\n",
    "Hamming distance is the number of characters that differ between two strings.\n",
    "#hamming_distance(\"abcde\", \"bcdef\") ➞ 5\n",
    "\n",
    "(\"abcde\", \"bcdef\") ➞ 5\n",
    "\"\"\"\n",
    "def hamming_distance(str1, str2):\n",
    "    dist = 0\n",
    "    for i in range(len(str1)):\n",
    "        if str1[i] != str2[i]:\n",
    "            dist +=1\n",
    "    print(dist)\n",
    "hamming_distance(\"abcde\", \"bcdef\")\n",
    "hamming_distance(\"strong\", \"strung\")"
   ]
  },
  {
   "cell_type": "code",
   "execution_count": null,
   "id": "b7a714fd",
   "metadata": {},
   "outputs": [],
   "source": []
  }
 ],
 "metadata": {
  "kernelspec": {
   "display_name": "Python 3",
   "language": "python",
   "name": "python3"
  },
  "language_info": {
   "codemirror_mode": {
    "name": "ipython",
    "version": 3
   },
   "file_extension": ".py",
   "mimetype": "text/x-python",
   "name": "python",
   "nbconvert_exporter": "python",
   "pygments_lexer": "ipython3",
   "version": "3.8.8"
  }
 },
 "nbformat": 4,
 "nbformat_minor": 5
}
