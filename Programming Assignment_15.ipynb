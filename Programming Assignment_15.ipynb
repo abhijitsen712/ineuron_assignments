{
 "cells": [
  {
   "cell_type": "code",
   "execution_count": null,
   "id": "302cba5d",
   "metadata": {},
   "outputs": [],
   "source": [
    "#1\n",
    "\"\"\"\n",
    "Please write a program using generator to print the numbers which can be divisible by 5 and\n",
    "7 between 0 and n in comma separated form while n is input by console.\n",
    "\"\"\""
   ]
  },
  {
   "cell_type": "code",
   "execution_count": 3,
   "id": "95096b6a",
   "metadata": {},
   "outputs": [
    {
     "name": "stdout",
     "output_type": "stream",
     "text": [
      "Enter the last number in the range:100\n",
      "0\n",
      "35\n",
      "70\n"
     ]
    }
   ],
   "source": [
    "def div_7_5(num):\n",
    "    n = 0\n",
    "    while n < num:\n",
    "        if (n%5 ==0 and n%7 == 0):\n",
    "            yield n\n",
    "        n +=1\n",
    "\n",
    "num = int(input(\"Enter the last number in the range:\"))\n",
    "\n",
    "for i in div_7_5(num):\n",
    "    print(i)"
   ]
  },
  {
   "cell_type": "code",
   "execution_count": null,
   "id": "6ddad8de",
   "metadata": {},
   "outputs": [],
   "source": [
    "#2.\n",
    "\"\"\"\n",
    "Please write a program using generator to print the even numbers between 0 and n in comma\n",
    "separated form while n is input by console.\n",
    "\"\"\""
   ]
  },
  {
   "cell_type": "code",
   "execution_count": 7,
   "id": "c2ebf312",
   "metadata": {},
   "outputs": [
    {
     "name": "stdout",
     "output_type": "stream",
     "text": [
      "Enter the last number in the range:100\n",
      "0,2,4,6,8,10,12,14,16,18,20,22,24,26,28,30,32,34,36,38,40,42,44,46,48,50,52,54,56,58,60,62,64,66,68,70,72,74,76,78,80,82,84,86,88,90,92,94,96,98\n"
     ]
    }
   ],
   "source": [
    "def even(num):\n",
    "    n = 0\n",
    "    while n < num:\n",
    "        if n%2 == 0:\n",
    "            yield n\n",
    "        n +=1\n",
    "\n",
    "num = int(input(\"Enter the last number in the range:\"))\n",
    "even_lst = []\n",
    "for i in even(num):\n",
    "    even_lst.append(str(i))\n",
    "print(\",\".join(even_lst))"
   ]
  },
  {
   "cell_type": "code",
   "execution_count": 16,
   "id": "466aba56",
   "metadata": {},
   "outputs": [
    {
     "name": "stdout",
     "output_type": "stream",
     "text": [
      "Enter the number of terms:10\n",
      "1,1,2,3,5,8,13,21,34\n"
     ]
    }
   ],
   "source": [
    "#3\n",
    "\"\"\"\n",
    "\n",
    "Please write a program using list comprehension to print the Fibonacci Sequence in comma\n",
    "separated form with a given n input by console.\n",
    "\"\"\"\n",
    "num = int(input(\"Enter the number of terms:\"))\n",
    "fibonacci = [str(int((((1 + 5**0.5) / 2)**_ - ((1 - 5**0.5) / 2)**_) / 5**0.5)) for _ in range(1, num)]\n",
    "print(\",\".join(fibonacci))"
   ]
  },
  {
   "cell_type": "code",
   "execution_count": 18,
   "id": "c430ffcf",
   "metadata": {},
   "outputs": [
    {
     "name": "stdout",
     "output_type": "stream",
     "text": [
      "The username is: john\n"
     ]
    }
   ],
   "source": [
    "#4.\n",
    "\"\"\"\n",
    "Assuming that we have some email addresses in the \"username@companyname.com\" format,\n",
    "please write program to print the user name of a given email address. Both user names and\n",
    "company names are composed of letters only.\n",
    "Example:\n",
    "If the following email address is given as input to the program:\n",
    "john@google.com\n",
    "Then, the output of the program should be:\n",
    "john\n",
    "\"\"\"\n",
    "\n",
    "input_ = \"john@google.com\"\n",
    "input_lst = input_.split(\"@\")\n",
    "print(\"The username is:\",input_lst[0])\n",
    "\n"
   ]
  },
  {
   "cell_type": "code",
   "execution_count": 53,
   "id": "7b77bf21",
   "metadata": {},
   "outputs": [
    {
     "name": "stdout",
     "output_type": "stream",
     "text": [
      "100\n"
     ]
    }
   ],
   "source": [
    "#5\n",
    "\"\"\"\n",
    "Define a class named Shape and its subclass Square. The Square class has an init function\n",
    "which takes a length as argument. Both classes have a area function which can print the area\n",
    "of the shape where Shape's area is 0 by default.\n",
    "\"\"\"\n",
    "\n",
    "\n",
    "class Shape:\n",
    "    def __init__(self, length):\n",
    "        self.length = length\n",
    "        self.area = 0\n",
    "        \n",
    "    def Area(self):\n",
    "        area = self.length**2\n",
    "        print(area)\n",
    "\n",
    "class Square(Shape):\n",
    "    def __init__(self, length):\n",
    "        super().__init__(length)\n",
    "        self.length = length\n",
    "        \n",
    "    def Area(self):\n",
    "        area = self.length**2\n",
    "        print(area)\n",
    "\n",
    "square = Square(10)\n",
    "square.Area()"
   ]
  },
  {
   "cell_type": "code",
   "execution_count": null,
   "id": "f356af59",
   "metadata": {},
   "outputs": [],
   "source": []
  },
  {
   "cell_type": "code",
   "execution_count": null,
   "id": "29be2bbf",
   "metadata": {},
   "outputs": [],
   "source": []
  }
 ],
 "metadata": {
  "kernelspec": {
   "display_name": "Python 3",
   "language": "python",
   "name": "python3"
  },
  "language_info": {
   "codemirror_mode": {
    "name": "ipython",
    "version": 3
   },
   "file_extension": ".py",
   "mimetype": "text/x-python",
   "name": "python",
   "nbconvert_exporter": "python",
   "pygments_lexer": "ipython3",
   "version": "3.8.8"
  }
 },
 "nbformat": 4,
 "nbformat_minor": 5
}
