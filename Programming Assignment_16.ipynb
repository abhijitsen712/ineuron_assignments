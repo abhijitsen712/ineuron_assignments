{
 "cells": [
  {
   "cell_type": "code",
   "execution_count": 5,
   "id": "8090a2c0",
   "metadata": {},
   "outputs": [
    {
     "name": "stdout",
     "output_type": "stream",
     "text": [
      "in...in...incredible?\n",
      "en...en...enthusiastic?\n"
     ]
    }
   ],
   "source": [
    "\"\"\"\n",
    "Question1. Write a function that stutters a word as if someone is struggling to read it. \n",
    "The first two letters are repeated twice with an ellipsis ... \n",
    "and space after each, and then the word is pronounced with a question mark ?.\n",
    "\"\"\"\n",
    "\n",
    "def stutter(word):\n",
    "    print(word[:2]+\"...\"+word[:2]+\"...\"+word+\"?\")\n",
    "stutter(\"incredible\")\n",
    "stutter(\"enthusiastic\") "
   ]
  },
  {
   "cell_type": "code",
   "execution_count": 12,
   "id": "15d18a7a",
   "metadata": {},
   "outputs": [
    {
     "name": "stdout",
     "output_type": "stream",
     "text": [
      "47.75\n"
     ]
    }
   ],
   "source": [
    "\"\"\"\n",
    "Question 2.Create a function that takes an angle in radians and returns the corresponding \n",
    "angle in degrees rounded to one decimal place.\n",
    "\"\"\"\n",
    "num = 150\n",
    "import math\n",
    "def rad2deg(n):\n",
    "    return n/math.pi\n",
    "\n",
    "print(round(rad2deg(num),2))\n"
   ]
  },
  {
   "cell_type": "code",
   "execution_count": 20,
   "id": "cef8aa3c",
   "metadata": {},
   "outputs": [
    {
     "name": "stdout",
     "output_type": "stream",
     "text": [
      "The number is a curzon number\n"
     ]
    }
   ],
   "source": [
    "\"\"\"\n",
    "Question 3. In this challenge, establish if a given integer num is a Curzon number. \n",
    "If 1 plus 2 elevated to num is exactly divisible by 1 plus 2 multiplied by num, \n",
    "then num is a Curzon number\n",
    "\"\"\"\n",
    "num = 14\n",
    "def is_curzon(num):\n",
    "    divn = 2**num + 1\n",
    "    divr = 2*num + 1\n",
    "    if divn%divr == 0:\n",
    "        return True\n",
    "    else:\n",
    "        return False\n",
    "if is_curzon(num):\n",
    "    print(\"The number is a curzon number\")\n",
    "else:\n",
    "    print(\"The number is not a curzon number\")"
   ]
  },
  {
   "cell_type": "code",
   "execution_count": 26,
   "id": "cb4e08d9",
   "metadata": {},
   "outputs": [
    {
     "name": "stdout",
     "output_type": "stream",
     "text": [
      "10.39\n"
     ]
    }
   ],
   "source": [
    "\"\"\"\n",
    "Question 4.Given the side length x find the area of a hexagon.\n",
    "Area = 3*root(3)*l**2/2\n",
    "\"\"\"\n",
    "def area_hex(l):\n",
    "    area = (3*math.sqrt(3)*(l**2))/2\n",
    "    print(round(area,2))\n",
    "    \n",
    "area_hex(2)"
   ]
  },
  {
   "cell_type": "code",
   "execution_count": 35,
   "id": "d8e994cf",
   "metadata": {},
   "outputs": [
    {
     "name": "stdout",
     "output_type": "stream",
     "text": [
      "10100\n"
     ]
    }
   ],
   "source": [
    "\"\"\"\n",
    "Question 5. Create a function that returns a base-2 (binary) representation of a base-10 (decimal) \n",
    "string number. \n",
    "To convert is simple: ((2) means base-2 and (10) means base-10) 010101001(2) = 1 + 8 + 32 + 128.\n",
    "\"\"\"\n",
    "\n",
    "num = 20\n",
    "\n",
    "def dec2bin(num):\n",
    "    lst = []\n",
    "    while num > 0:\n",
    "        lst.append(str(num%2))\n",
    "        num = int(num/2)\n",
    "    lst.reverse()\n",
    "    return lst\n",
    "print(\"\".join(dec2bin(num)))"
   ]
  },
  {
   "cell_type": "code",
   "execution_count": null,
   "id": "d14703fd",
   "metadata": {},
   "outputs": [],
   "source": []
  }
 ],
 "metadata": {
  "kernelspec": {
   "display_name": "Python 3",
   "language": "python",
   "name": "python3"
  },
  "language_info": {
   "codemirror_mode": {
    "name": "ipython",
    "version": 3
   },
   "file_extension": ".py",
   "mimetype": "text/x-python",
   "name": "python",
   "nbconvert_exporter": "python",
   "pygments_lexer": "ipython3",
   "version": "3.8.8"
  }
 },
 "nbformat": 4,
 "nbformat_minor": 5
}
