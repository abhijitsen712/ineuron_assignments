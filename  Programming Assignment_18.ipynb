{
 "cells": [
  {
   "cell_type": "code",
   "execution_count": 6,
   "id": "7bfb6d9e",
   "metadata": {},
   "outputs": [
    {
     "name": "stdout",
     "output_type": "stream",
     "text": [
      "[1, 2]\n",
      "[1, 2, 123]\n"
     ]
    }
   ],
   "source": [
    "#1\n",
    "\"\"\"\n",
    "Create a function that takes a list of non-negative integers and strings and return a new list without the strings.\n",
    "Examples\n",
    "filter_list([1, 2, \"a\", \"b\"]) ➞ [1, 2]\n",
    "\n",
    "filter_list([1, \"a\", \"b\", 0, 15]) ➞ [1, 0, 15]\n",
    "\n",
    "filter_list([1, 2, \"aasf\", \"1\", \"123\", 123]) ➞ [1, 2, 123]\n",
    "\n",
    "\n",
    "\"\"\"\n",
    "\n",
    "def listNoStrings(lst):\n",
    "    temp_lst = []\n",
    "    for i in lst:\n",
    "        if isinstance(i,int):\n",
    "            temp_lst.append(i)\n",
    "    return temp_lst\n",
    "print(listNoStrings([1, 2, \"a\", \"b\"]))\n",
    "print(listNoStrings([1, 2, \"aasf\", \"1\", \"123\", 123]))"
   ]
  },
  {
   "cell_type": "code",
   "execution_count": 13,
   "id": "ed525b80",
   "metadata": {},
   "outputs": [
    {
     "name": "stdout",
     "output_type": "stream",
     "text": [
      "DLROw OLLEh\n",
      "RADAr\n"
     ]
    }
   ],
   "source": [
    "#2.\n",
    "\"\"\"\n",
    "The \"Reverser\" takes a string as input and returns that string in reverse order, with the opposite case.\n",
    "Examples\n",
    "reverse(\"Hello World\") ➞ \"DLROw OLLEh\"\n",
    "\n",
    "reverse(\"ReVeRsE\") ➞ \"eSrEvEr\"\n",
    "\n",
    "reverse(\"Radar\") ➞ \"RADAr\"\n",
    "\n",
    "\"\"\"\n",
    "\n",
    "def reverser(string):\n",
    "    return string[::-1].swapcase()\n",
    "\n",
    "print(reverser(\"Hello World\"))\n",
    "print(reverser(\"Radar\"))"
   ]
  },
  {
   "cell_type": "code",
   "execution_count": 21,
   "id": "da6da022",
   "metadata": {},
   "outputs": [
    {
     "name": "stdout",
     "output_type": "stream",
     "text": [
      "1\n",
      "[2, 3, 4, 5]\n",
      "6\n"
     ]
    }
   ],
   "source": [
    "#3.\n",
    "\"\"\"\n",
    "You can assign variables from lists like this:\n",
    "lst = [1, 2, 3, 4, 5, 6]\n",
    "first = lst[0]\n",
    "middle = lst[1:-1]\n",
    "last = lst[-1]\n",
    "\n",
    "print(first) ➞ outputs 1\n",
    "print(middle) ➞ outputs [2, 3, 4, 5]\n",
    "print(last) ➞ outputs 6\n",
    "With Python 3, you can assign variables from lists in a much more succinct way. Create variables first, middle and last from the given list using destructuring assignment (check the Resources tab for some examples), where:\n",
    "first  ➞ 1\n",
    "\n",
    "middle ➞ [2, 3, 4, 5]\n",
    "\n",
    "last ➞ 6\n",
    "\n",
    "\"\"\"\n",
    "first, *middle, last  = [1, 2, 3, 4, 5, 6]\n",
    "print(first)\n",
    "print(middle)\n",
    "print(last)"
   ]
  },
  {
   "cell_type": "code",
   "execution_count": 24,
   "id": "65747894",
   "metadata": {},
   "outputs": [
    {
     "name": "stdout",
     "output_type": "stream",
     "text": [
      "120\n",
      "6\n"
     ]
    }
   ],
   "source": [
    "#4\n",
    "\"\"\"\n",
    "Write a function that calculates the factorial of a number recursively.\n",
    "\"\"\"\n",
    "\n",
    "def factorial(n):\n",
    "    if n == 1:\n",
    "        return 1\n",
    "    else:\n",
    "        return n*factorial(n-1)\n",
    "    \n",
    "print(factorial(5))\n",
    "print(factorial(3))"
   ]
  },
  {
   "cell_type": "code",
   "execution_count": 34,
   "id": "80fc6447",
   "metadata": {},
   "outputs": [
    {
     "name": "stdout",
     "output_type": "stream",
     "text": [
      "[7, 8, 1, 2, 3, 4, 9, 9]\n",
      "['b', 'a', 'a', 'a']\n"
     ]
    }
   ],
   "source": [
    "#5.\n",
    "\"\"\"\n",
    "Write a function that moves all elements of one type to the end of the list.\n",
    "move_to_end([7, 8, 9, 1, 2, 9, 3, 4], 9) ➞ [7, 8, 1, 2, 3, 4, 9]\n",
    "\"\"\"\n",
    "\n",
    "def move_to_end(lst,ele):\n",
    "    if ele in lst:\n",
    "        count = lst.count(ele)\n",
    "        for i in range(count):\n",
    "            lst.remove(ele)\n",
    "        for i in range(count):\n",
    "            lst.append(ele)\n",
    "        return lst\n",
    "    else:\n",
    "        print(\"The said element is not there in the list\")\n",
    "print(move_to_end([7, 8, 9, 1, 9, 2, 3, 4], 9))\n",
    "print(move_to_end([\"a\", \"a\", \"a\", \"b\"], \"a\") )"
   ]
  },
  {
   "cell_type": "code",
   "execution_count": 26,
   "id": "e34eb1b7",
   "metadata": {},
   "outputs": [
    {
     "name": "stdout",
     "output_type": "stream",
     "text": [
      "1\n"
     ]
    }
   ],
   "source": []
  },
  {
   "cell_type": "code",
   "execution_count": null,
   "id": "de598f65",
   "metadata": {},
   "outputs": [],
   "source": []
  }
 ],
 "metadata": {
  "kernelspec": {
   "display_name": "Python 3",
   "language": "python",
   "name": "python3"
  },
  "language_info": {
   "codemirror_mode": {
    "name": "ipython",
    "version": 3
   },
   "file_extension": ".py",
   "mimetype": "text/x-python",
   "name": "python",
   "nbconvert_exporter": "python",
   "pygments_lexer": "ipython3",
   "version": "3.8.8"
  }
 },
 "nbformat": 4,
 "nbformat_minor": 5
}
