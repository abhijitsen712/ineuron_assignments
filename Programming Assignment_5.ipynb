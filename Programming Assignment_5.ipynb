{
 "cells": [
  {
   "cell_type": "markdown",
   "id": "3c3e5afc",
   "metadata": {},
   "source": [
    "1. Write a Python Program to Find LCM?\n",
    "2. Write a Python Program to Find HCF?\n",
    "3. Write a Python Program to Convert Decimal to Binary, Octal and Hexadecimal?\n",
    "4. Write a Python Program To Find ASCII value of a character?\n",
    "5. Write a Python Program to Make a Simple Calculator with 4 basic mathematical operations?"
   ]
  },
  {
   "cell_type": "code",
   "execution_count": 16,
   "id": "e2614b0e",
   "metadata": {},
   "outputs": [
    {
     "name": "stdout",
     "output_type": "stream",
     "text": [
      "LCM of 6 and 15 is 30:\n"
     ]
    }
   ],
   "source": [
    "#1. Finding the LCM of num1 and num2\n",
    "\n",
    "num1 = 6\n",
    "num2 = 15\n",
    "\n",
    "mul = 1\n",
    "#Getting the first smallest common multiple\n",
    "for i in range(1,num2):\n",
    "    mul = num1*i \n",
    "    if mul%num2 == 0:\n",
    "        print(\"LCM of {} and {} is {}:\".format(num1, num2,mul))\n",
    "        break\n",
    "\n",
    "\n"
   ]
  },
  {
   "cell_type": "code",
   "execution_count": 35,
   "id": "95b0f9e5",
   "metadata": {},
   "outputs": [
    {
     "name": "stdout",
     "output_type": "stream",
     "text": [
      "The HCF of the given two numbers is: 15\n"
     ]
    }
   ],
   "source": [
    "#2.Finding the HCF of num1 and num2\n",
    "num1 = 45\n",
    "num2 = 60\n",
    "\n",
    "\n",
    "def hcf(num2, num1):\n",
    "    if num1 == 0:\n",
    "        print(\"The HCF of the given two numbers is:\",num2)\n",
    "        \n",
    "    else:\n",
    "        rem = int(num2%num1)\n",
    "        hcf(num1,rem)\n",
    "    \n",
    "\n",
    "\n",
    "#We need to find which number is greater\n",
    "if num1 > num2:\n",
    "    HCF = hcf(num1,num2)\n",
    "else:\n",
    "    HCF =hcf(num2, num1)\n"
   ]
  },
  {
   "cell_type": "code",
   "execution_count": 63,
   "id": "ca06318f",
   "metadata": {},
   "outputs": [
    {
     "name": "stdout",
     "output_type": "stream",
     "text": [
      "The binary converted number is: 10110100\n",
      "The octel converted number is: 264\n",
      "The hexadecimal converted number is: B4\n"
     ]
    }
   ],
   "source": [
    "#3. Finding the binary, octel and hex value of number num\n",
    "\n",
    "num = 180\n",
    "\n",
    "\n",
    "\n",
    "bin_lst = []\n",
    "oct_lst = []\n",
    "hexa_lst = []\n",
    "def binary(num):\n",
    "    if num < 2:\n",
    "        bin_lst.append(str(1))\n",
    "    else:\n",
    "        q = int(num/2)\n",
    "        r = int(num%2)\n",
    "        bin_lst.append(str(r))\n",
    "        binary(q)\n",
    "        \n",
    "def octel(num):\n",
    "    if num < 8:\n",
    "        oct_lst.append(str(num))\n",
    "    else:\n",
    "        q = int(num/8)\n",
    "        r = int(num%8)\n",
    "        oct_lst.append(str(r))\n",
    "        octel(q)\n",
    "    \n",
    "def conversion(num):\n",
    "    if num == 10:\n",
    "        return 'A'\n",
    "    elif num == 11:\n",
    "        return 'B'\n",
    "    elif num == 12:\n",
    "        return 'C'\n",
    "    elif num == 13:\n",
    "        return 'D'\n",
    "    elif num == 14:\n",
    "        return 'E'\n",
    "    elif num == 15:\n",
    "        return 'F'\n",
    "    else:\n",
    "        return str(num)\n",
    "        \n",
    "def hexa(num):\n",
    "    if num < 16:\n",
    "        num = conversion(num)\n",
    "        hexa_lst.append(str(num))\n",
    "    else:\n",
    "        q = int(num/16)\n",
    "        r = conversion(int(num%16))\n",
    "        hexa_lst.append(str(r))\n",
    "        hexa(q)\n",
    "        \n",
    "        \n",
    "binary(num)\n",
    "bin_lst.reverse()\n",
    "print(\"The binary converted number is:\",''.join(bin_lst))\n",
    "\n",
    "\n",
    "octel(num)\n",
    "oct_lst.reverse()\n",
    "print(\"The octel converted number is:\",''.join(oct_lst))\n",
    "\n",
    "hexa(num)\n",
    "hexa_lst.reverse()\n",
    "print(\"The hexadecimal converted number is:\",''.join(hexa_lst))\n"
   ]
  },
  {
   "cell_type": "code",
   "execution_count": 67,
   "id": "d8de5fa9",
   "metadata": {},
   "outputs": [
    {
     "name": "stdout",
     "output_type": "stream",
     "text": [
      "The ASCII values of the character is 65\n"
     ]
    }
   ],
   "source": [
    "#4. Getting the ASCII of the character in char\n",
    "char = 'A'\n",
    "print('The ASCII values of the character is',ord(char))"
   ]
  },
  {
   "cell_type": "code",
   "execution_count": 68,
   "id": "9fe7506e",
   "metadata": {},
   "outputs": [
    {
     "name": "stdout",
     "output_type": "stream",
     "text": [
      "a+b = 60\n",
      "a-b = 20\n",
      "axb = 800\n",
      "a/b = 2.0\n"
     ]
    }
   ],
   "source": [
    "#5. Displaying a basic calculator\n",
    "a = 40\n",
    "b = 20\n",
    "\n",
    "def cal(a, b):\n",
    "    print(\"a+b =\",a+b)\n",
    "    print(\"a-b =\",a-b)\n",
    "    print(\"axb =\",a*b)\n",
    "    print(\"a/b =\",a/b)\n",
    "    \n",
    "cal(a,b)"
   ]
  },
  {
   "cell_type": "code",
   "execution_count": null,
   "id": "d0977e91",
   "metadata": {},
   "outputs": [],
   "source": []
  }
 ],
 "metadata": {
  "kernelspec": {
   "display_name": "Python 3",
   "language": "python",
   "name": "python3"
  },
  "language_info": {
   "codemirror_mode": {
    "name": "ipython",
    "version": 3
   },
   "file_extension": ".py",
   "mimetype": "text/x-python",
   "name": "python",
   "nbconvert_exporter": "python",
   "pygments_lexer": "ipython3",
   "version": "3.8.8"
  }
 },
 "nbformat": 4,
 "nbformat_minor": 5
}
