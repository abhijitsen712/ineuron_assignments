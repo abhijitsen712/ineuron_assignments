{
 "cells": [
  {
   "cell_type": "markdown",
   "id": "b288e398",
   "metadata": {},
   "source": [
    "1. Write a Python program to print &quot;Hello Python&quot;?\n",
    "2. Write a Python program to do arithmetical operations addition and division.?\n",
    "3. Write a Python program to find the area of a triangle?\n",
    "4. Write a Python program to swap two variables?\n",
    "5. Write a Python program to generate a random number?"
   ]
  },
  {
   "cell_type": "code",
   "execution_count": 1,
   "id": "986d449c",
   "metadata": {},
   "outputs": [
    {
     "name": "stdout",
     "output_type": "stream",
     "text": [
      "Hello Python\n"
     ]
    }
   ],
   "source": [
    "#1. \n",
    "print(\"Hello Python\")"
   ]
  },
  {
   "cell_type": "code",
   "execution_count": 7,
   "id": "084f5acb",
   "metadata": {},
   "outputs": [
    {
     "name": "stdout",
     "output_type": "stream",
     "text": [
      "The sum of two numbers is: 52\n",
      "The ratio of the first to second number is: 6.428571428571429\n"
     ]
    }
   ],
   "source": [
    "#2.\n",
    "def add_and_div(a,b):\n",
    "    try:\n",
    "        print(\"The sum of two numbers is:\",a+b)\n",
    "        print(\"The ratio of the first to second number is:\",a/b)\n",
    "    except:\n",
    "        print(\"Enter two proper numbers\")\n",
    "add_and_div(45,7)"
   ]
  },
  {
   "cell_type": "code",
   "execution_count": 14,
   "id": "a2e89234",
   "metadata": {},
   "outputs": [
    {
     "name": "stdout",
     "output_type": "stream",
     "text": [
      "Enter the base length of the triangle::45\n",
      "Enter the altitude length of the triangle::34\n",
      "The area of the triangle:: 765.0\n"
     ]
    }
   ],
   "source": [
    "#3.\n",
    "try:\n",
    "    base = float(input(\"Enter the base length of the triangle::\"))\n",
    "    alt = float(input(\"Enter the altitude length of the triangle::\"))\n",
    "    \n",
    "    print(\"The area of the triangle::\",0.5*base*alt)\n",
    "except:\n",
    "    print(\"Enter proper numbers\")"
   ]
  },
  {
   "cell_type": "code",
   "execution_count": 15,
   "id": "3533e7fa",
   "metadata": {},
   "outputs": [
    {
     "name": "stdout",
     "output_type": "stream",
     "text": [
      "30 20\n"
     ]
    }
   ],
   "source": [
    "#4. \n",
    "var_1 = 20\n",
    "var_2 = 30\n",
    "\n",
    "temp_var = var_2\n",
    "var_2 = var_1\n",
    "var_1 = temp_var\n",
    "\n",
    "print(var_1, var_2)"
   ]
  },
  {
   "cell_type": "code",
   "execution_count": 16,
   "id": "e1e036e1",
   "metadata": {},
   "outputs": [
    {
     "name": "stdout",
     "output_type": "stream",
     "text": [
      "0.7624726203395045\n"
     ]
    }
   ],
   "source": [
    "#5.\n",
    "\n",
    "#we are importing a python module random to generate a random number\n",
    "import random\n",
    "#We are here calling the random method of the random module\n",
    "n = random.random()\n",
    "print(n)"
   ]
  },
  {
   "cell_type": "code",
   "execution_count": null,
   "id": "7b0d6ba3",
   "metadata": {},
   "outputs": [],
   "source": []
  }
 ],
 "metadata": {
  "kernelspec": {
   "display_name": "Python 3",
   "language": "python",
   "name": "python3"
  },
  "language_info": {
   "codemirror_mode": {
    "name": "ipython",
    "version": 3
   },
   "file_extension": ".py",
   "mimetype": "text/x-python",
   "name": "python",
   "nbconvert_exporter": "python",
   "pygments_lexer": "ipython3",
   "version": "3.8.8"
  }
 },
 "nbformat": 4,
 "nbformat_minor": 5
}
