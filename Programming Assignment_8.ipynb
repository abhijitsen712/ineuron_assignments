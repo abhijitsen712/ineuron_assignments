{
 "cells": [
  {
   "cell_type": "markdown",
   "id": "b4764278",
   "metadata": {},
   "source": [
    "1. Write a Python Program to Add Two Matrices?\n",
    "2. Write a Python Program to Multiply Two Matrices?\n",
    "3. Write a Python Program to Transpose a Matrix?\n",
    "4. Write a Python Program to Sort Words in Alphabetic Order?\n",
    "5. Write a Python Program to Remove Punctuation From a String?"
   ]
  },
  {
   "cell_type": "code",
   "execution_count": 5,
   "id": "c115c5cd",
   "metadata": {},
   "outputs": [],
   "source": [
    "import numpy as np"
   ]
  },
  {
   "cell_type": "code",
   "execution_count": 4,
   "id": "3dcdfa8d",
   "metadata": {},
   "outputs": [
    {
     "name": "stdout",
     "output_type": "stream",
     "text": [
      "[[3, 5, 7], [9, 11, 13], [15, 17, 19]]\n"
     ]
    }
   ],
   "source": [
    "#1. Adding two matrices\n",
    "\n",
    "mat_1 = [[1,2,3],[4,5,6],[7,8,9]]\n",
    "mat_2 = [[2,3,4],[5,6,7],[8,9,10]]\n",
    "\n",
    "#For matrix addtion and multiplication the dimension should be equal for both the matrices\n",
    "\n",
    "sum_mat = []\n",
    "for i in range(len(mat_1)):\n",
    "    temp_lst = []\n",
    "    for j in range(len(mat_1[0])):\n",
    "        temp_lst.append(mat_1[i][j] + mat_2[i][j])\n",
    "    sum_mat.append(temp_lst)\n",
    "print(sum_mat)"
   ]
  },
  {
   "cell_type": "code",
   "execution_count": 11,
   "id": "01d649dd",
   "metadata": {},
   "outputs": [
    {
     "name": "stdout",
     "output_type": "stream",
     "text": [
      "[[ 3  5  7]\n",
      " [ 9 11 13]\n",
      " [15 17 19]]\n"
     ]
    }
   ],
   "source": [
    "#Doing the same in numpy\n",
    "arr_1 = np.array(mat_1)\n",
    "arr_2 = np.array(mat_2)\n",
    "\n",
    "print(arr_1 + arr_2)"
   ]
  },
  {
   "cell_type": "code",
   "execution_count": 16,
   "id": "86a26084",
   "metadata": {},
   "outputs": [
    {
     "name": "stdout",
     "output_type": "stream",
     "text": [
      "[[1, 4, 7], [2, 5, 8], [3, 6, 9]]\n"
     ]
    }
   ],
   "source": [
    "#3. transpose of a matrix\n",
    "mat = [[1,2,3],[4,5,6],[7,8,9]]\n",
    "\n",
    "def mat_trans(mat):\n",
    "    mat_t = []\n",
    "    for i in range(len(mat)):\n",
    "        temp_lst = []\n",
    "        for j in range(len(mat[0])):\n",
    "            temp_lst.append(mat[j][i])\n",
    "        mat_t.append(temp_lst)\n",
    "    return mat_t\n",
    "print(mat_trans(mat))"
   ]
  },
  {
   "cell_type": "code",
   "execution_count": 14,
   "id": "bb23ad9d",
   "metadata": {},
   "outputs": [
    {
     "name": "stdout",
     "output_type": "stream",
     "text": [
      "[[1 4 7]\n",
      " [2 5 8]\n",
      " [3 6 9]]\n"
     ]
    }
   ],
   "source": [
    "#numpy implementation of transpose\n",
    "print(np.transpose(np.array(mat)))"
   ]
  },
  {
   "cell_type": "code",
   "execution_count": 26,
   "id": "a2ebcf5f",
   "metadata": {},
   "outputs": [
    {
     "name": "stdout",
     "output_type": "stream",
     "text": [
      "[[36, 42, 48], [81, 96, 111], [126, 150, 174]]\n"
     ]
    }
   ],
   "source": [
    "#2. matrix multiplication \n",
    "mat_1 = [[1,2,3],[4,5,6],[7,8,9]]\n",
    "mat_2 = [[2,3,4],[5,6,7],[8,9,10]]\n",
    "mat_mul = []\n",
    "mat_2_T = mat_trans(mat_2)\n",
    "\n",
    "for i in range(len(mat_1)):\n",
    "    temp_lst = []\n",
    "    for j in range(len(mat_2_T)):\n",
    "        sum = 0\n",
    "        for k in range(len(mat_2_T[0])):\n",
    "            sum += mat_1[i][k]*mat_2_T[j][k]\n",
    "        temp_lst.append(sum)\n",
    "    mat_mul.append(temp_lst)\n",
    "print(mat_mul)"
   ]
  },
  {
   "cell_type": "code",
   "execution_count": 27,
   "id": "f9e707f6",
   "metadata": {},
   "outputs": [
    {
     "name": "stdout",
     "output_type": "stream",
     "text": [
      "[[ 36  42  48]\n",
      " [ 81  96 111]\n",
      " [126 150 174]]\n"
     ]
    }
   ],
   "source": [
    "#Doing the same in numpy\n",
    "arr_1 = np.array(mat_1)\n",
    "arr_2 = np.array(mat_2)\n",
    "print(np.matmul(arr_1,arr_2))"
   ]
  },
  {
   "cell_type": "code",
   "execution_count": 45,
   "id": "f0960690",
   "metadata": {},
   "outputs": [
    {
     "name": "stdout",
     "output_type": "stream",
     "text": [
      "['Little', 'People', 'Taugh', 'Teu']\n"
     ]
    }
   ],
   "source": [
    "#4. Write a Python Program to Sort Words in Alphabetic Order\n",
    "words = ['Little','Taugh','Teu','People']\n",
    "\n",
    "#using the list implementation\n",
    "words.sort()\n",
    "\n",
    "print(words)\n",
    "    "
   ]
  },
  {
   "cell_type": "code",
   "execution_count": 64,
   "id": "6a73809f",
   "metadata": {},
   "outputs": [
    {
     "name": "stdout",
     "output_type": "stream",
     "text": [
      "Wow it was truly nice but the tipoff offered was bad not adequate\n"
     ]
    }
   ],
   "source": [
    "#5. Write a Python Program to Remove Punctuation From a String\n",
    "\n",
    "import string\n",
    "punc = string.punctuation\n",
    "sentence = \"Wow! it was truly nice, but the tip-off offered was bad (not adequate).\"\n",
    "txt = sentence\n",
    "for char in sentence:\n",
    "    if char in punc:\n",
    "        txt = txt.replace(char,\"\")\n",
    "print(txt)"
   ]
  },
  {
   "cell_type": "code",
   "execution_count": null,
   "id": "b2af4a76",
   "metadata": {},
   "outputs": [],
   "source": []
  }
 ],
 "metadata": {
  "kernelspec": {
   "display_name": "Python 3",
   "language": "python",
   "name": "python3"
  },
  "language_info": {
   "codemirror_mode": {
    "name": "ipython",
    "version": 3
   },
   "file_extension": ".py",
   "mimetype": "text/x-python",
   "name": "python",
   "nbconvert_exporter": "python",
   "pygments_lexer": "ipython3",
   "version": "3.8.8"
  }
 },
 "nbformat": 4,
 "nbformat_minor": 5
}
