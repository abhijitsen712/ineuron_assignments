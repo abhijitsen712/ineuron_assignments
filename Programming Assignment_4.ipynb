{
 "cells": [
  {
   "cell_type": "markdown",
   "id": "028d9949",
   "metadata": {},
   "source": [
    "1. Write a Python Program to Find the Factorial of a Number?\n",
    "2. Write a Python Program to Display the multiplication Table?\n",
    "3. Write a Python Program to Print the Fibonacci sequence?\n",
    "4. Write a Python Program to Check Armstrong Number?\n",
    "5. Write a Python Program to Find Armstrong Number in an Interval?\n",
    "6. Write a Python Program to Find the Sum of Natural Numbers?"
   ]
  },
  {
   "cell_type": "code",
   "execution_count": 35,
   "id": "ff7fefb7",
   "metadata": {},
   "outputs": [
    {
     "name": "stdout",
     "output_type": "stream",
     "text": [
      "The factorial of the number is:: 120\n"
     ]
    }
   ],
   "source": [
    "#1. Checking the factorial of num\n",
    "num = 5\n",
    "\n",
    "fact = 1\n",
    "for i in range(1,num+1):\n",
    "    fact *= i\n",
    "print(\"The factorial of the number is::\",fact)"
   ]
  },
  {
   "cell_type": "code",
   "execution_count": 36,
   "id": "3c6e2a56",
   "metadata": {},
   "outputs": [
    {
     "name": "stdout",
     "output_type": "stream",
     "text": [
      "5 x 1 = 5\n",
      "5 x 2 = 10\n",
      "5 x 3 = 15\n",
      "5 x 4 = 20\n",
      "5 x 5 = 25\n",
      "5 x 6 = 30\n",
      "5 x 7 = 35\n",
      "5 x 8 = 40\n",
      "5 x 9 = 45\n",
      "5 x 10 = 50\n"
     ]
    }
   ],
   "source": [
    "#2. Giving the multiplication table of num\n",
    "num = 5\n",
    "\n",
    "\n",
    "for i in range(1,11):\n",
    "    print(\"{} x {} = {}\".format(num,i,num*i))"
   ]
  },
  {
   "cell_type": "code",
   "execution_count": 37,
   "id": "a0f20ecb",
   "metadata": {},
   "outputs": [
    {
     "name": "stdout",
     "output_type": "stream",
     "text": [
      "1\n",
      "2\n",
      "3\n",
      "5\n",
      "8\n",
      "13\n",
      "21\n",
      "34\n",
      "55\n"
     ]
    }
   ],
   "source": [
    "#3.\n",
    "#Fibonacci with recursion with number of terms as num_of_terms\n",
    "num_of_terms = 10\n",
    "\n",
    "\n",
    "def fibo(num):\n",
    "    if num <=  1:\n",
    "        return 1\n",
    "    else:\n",
    "        return fibo(num-1) + fibo(num-2)\n",
    "for i in range(1, num_of_terms):\n",
    "    print(fibo(i))"
   ]
  },
  {
   "cell_type": "code",
   "execution_count": 38,
   "id": "9559c77b",
   "metadata": {},
   "outputs": [
    {
     "name": "stdout",
     "output_type": "stream",
     "text": [
      "The number is an Armstrong number\n"
     ]
    }
   ],
   "source": [
    "#4. Checking if the number given by num is an Armstrong number\n",
    "\"\"\"\n",
    "Definition taken from google\n",
    "A number is thought of as an Armstrong number if the sum of its own digits raised \n",
    "to the power number of digits gives the number itself. For example, 0, 1, 153, 370, 371, 407 \n",
    "are three-digit Armstrong numbers and, 1634, 8208, 9474 \n",
    "are four-digit Armstrong numbers and there are many more\n",
    "\"\"\"\n",
    "import math\n",
    "num = 1634\n",
    "\n",
    "\n",
    "\n",
    "num_temp = num\n",
    "num_of_digits = 0\n",
    "state = True\n",
    "while(state and num_temp > 0):\n",
    "    num_of_digits += 1\n",
    "    if int(num_temp/10) ==  0:\n",
    "        state = False\n",
    "    num_temp = int(num_temp/10)\n",
    "\n",
    "sum = 0\n",
    "num_temp = num\n",
    "for i in range(num_of_digits):\n",
    "    sum += int(math.pow(num_temp%10,num_of_digits))\n",
    "    num_temp = int(num_temp/10)\n",
    "\n",
    "if num == sum:\n",
    "    print(\"The number is an Armstrong number\")\n",
    "        \n"
   ]
  },
  {
   "cell_type": "code",
   "execution_count": 39,
   "id": "9e83e3df",
   "metadata": {},
   "outputs": [
    {
     "name": "stdout",
     "output_type": "stream",
     "text": [
      "The number 1 is an Armstrong number\n",
      "The number 2 is an Armstrong number\n",
      "The number 3 is an Armstrong number\n",
      "The number 4 is an Armstrong number\n",
      "The number 5 is an Armstrong number\n",
      "The number 6 is an Armstrong number\n",
      "The number 7 is an Armstrong number\n",
      "The number 8 is an Armstrong number\n",
      "The number 9 is an Armstrong number\n",
      "The number 153 is an Armstrong number\n",
      "The number 370 is an Armstrong number\n",
      "The number 371 is an Armstrong number\n",
      "The number 407 is an Armstrong number\n",
      "The number 1634 is an Armstrong number\n"
     ]
    }
   ],
   "source": [
    "#5. Finding armstrong number withing range r1 and r2\n",
    "r1 = 1\n",
    "r2 = 2000\n",
    "\n",
    "def armstrong(num):\n",
    "    num_temp = num\n",
    "    num_of_digits = 0\n",
    "    state = True\n",
    "    while(state and num_temp > 0):\n",
    "        num_of_digits += 1\n",
    "        if int(num_temp/10) ==  0:\n",
    "            state = False\n",
    "        num_temp = int(num_temp/10)\n",
    "\n",
    "    sum = 0\n",
    "    num_temp = num\n",
    "    for i in range(num_of_digits):\n",
    "        sum += int(math.pow(num_temp%10,num_of_digits))\n",
    "        num_temp = int(num_temp/10)\n",
    "\n",
    "    if num == sum:\n",
    "        print(\"The number {} is an Armstrong number\".format(num))\n",
    "for i in range(r1,r2+1):\n",
    "    armstrong(i)"
   ]
  },
  {
   "cell_type": "code",
   "execution_count": 48,
   "id": "7fe75d0d",
   "metadata": {},
   "outputs": [
    {
     "name": "stdout",
     "output_type": "stream",
     "text": [
      "The sum of 10 natural numbers is 55\n"
     ]
    }
   ],
   "source": [
    "#6. Finding the sum of first num natural numbers\n",
    "num = 10\n",
    "\n",
    "sum = int(num*(num+1)/2)\n",
    "print(\"The sum of {} natural numbers is {}\".format(i,   sum ))"
   ]
  },
  {
   "cell_type": "code",
   "execution_count": null,
   "id": "da6ccbc7",
   "metadata": {},
   "outputs": [],
   "source": []
  }
 ],
 "metadata": {
  "kernelspec": {
   "display_name": "Python 3",
   "language": "python",
   "name": "python3"
  },
  "language_info": {
   "codemirror_mode": {
    "name": "ipython",
    "version": 3
   },
   "file_extension": ".py",
   "mimetype": "text/x-python",
   "name": "python",
   "nbconvert_exporter": "python",
   "pygments_lexer": "ipython3",
   "version": "3.8.8"
  }
 },
 "nbformat": 4,
 "nbformat_minor": 5
}
