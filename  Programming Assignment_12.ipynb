{
 "cells": [
  {
   "cell_type": "code",
   "execution_count": null,
   "id": "79ac41c3",
   "metadata": {},
   "outputs": [],
   "source": [
    "\"\"\"\n",
    "1. Write a Python program to Extract Unique values dictionary values?\n",
    "2. Write a Python program to find the sum of all items in a dictionary?\n",
    "3. Write a Python program to Merging two Dictionaries?\n",
    "4. Write a Python program to convert key-values list to flat dictionary?\n",
    "5. Write a Python program to insertion at the beginning in OrderedDict?\n",
    "6. Write a Python program to check order of character in string using OrderedDict()?\n",
    "7. Write a Python program to sort Python Dictionaries by Key or Value?\n",
    "\"\"\""
   ]
  },
  {
   "cell_type": "code",
   "execution_count": 8,
   "id": "1cc1c926",
   "metadata": {},
   "outputs": [
    {
     "name": "stdout",
     "output_type": "stream",
     "text": [
      "The unique value from the dictionary values are: {2, 4, 5, 6, 7, 9}\n"
     ]
    }
   ],
   "source": [
    "#1. Write a Python program to Extract Unique values dictionary values\n",
    "dict_test = {'a1' : [4,2,7,5],\n",
    "             'a2' : [6,2,5,9],\n",
    "             'a3' : [6,7,2,9],\n",
    "             'a4' : [2,7,9]}\n",
    "lst = []\n",
    "for val in dict_test.values():\n",
    "    lst += val\n",
    "print(\"The unique value from the dictionary values are:\",set(lst))"
   ]
  },
  {
   "cell_type": "code",
   "execution_count": 10,
   "id": "39e02db4",
   "metadata": {},
   "outputs": [
    {
     "name": "stdout",
     "output_type": "stream",
     "text": [
      "The sum of all the items is: 23\n"
     ]
    }
   ],
   "source": [
    "#2.Write a Python program to find the sum of all items in a dictionary\n",
    "dict_test = {'a1' : 7,\n",
    "             'a2' : 5,\n",
    "             'a3' : 9,\n",
    "             'a4' : 2}\n",
    "sum = 0\n",
    "for val in dict_test.values():\n",
    "    sum += val\n",
    "print(\"The sum of all the items is:\",sum)"
   ]
  },
  {
   "cell_type": "code",
   "execution_count": 18,
   "id": "6158e9f9",
   "metadata": {},
   "outputs": [
    {
     "name": "stdout",
     "output_type": "stream",
     "text": [
      "The merged dictionary is: {'a1': 7, 'a2': 5, 'a3': 9, 'a4': 2, 'a5': 1, 'a6': 3, 'a7': 8, 'a8': 6}\n"
     ]
    }
   ],
   "source": [
    "#3. Write a Python program to Merging two Dictionaries\n",
    "dict_test_1 = {'a1' : 7,\n",
    "             'a2' : 5,\n",
    "             'a3' : 9,\n",
    "             'a4' : 2}\n",
    "dict_test_2 = {'a5' : 1,\n",
    "             'a6' : 3,\n",
    "             'a7' : 8,\n",
    "             'a8' : 6}\n",
    "dict_test_1.update(dict_test_2)\n",
    "print(\"The merged dictionary is:\",dict_test_1)\n",
    "\n"
   ]
  },
  {
   "cell_type": "code",
   "execution_count": 28,
   "id": "65c45ce5",
   "metadata": {},
   "outputs": [
    {
     "data": {
      "text/plain": [
       "{'a1': [1, 2, 3], 'a2': [4, 2, 6], 'a3': [6, 2, 9]}"
      ]
     },
     "execution_count": 28,
     "metadata": {},
     "output_type": "execute_result"
    }
   ],
   "source": [
    "#4.Write a Python program to convert key-values list to flat dictionary\n",
    "key = ['a1','a2','a3']\n",
    "val = [[1,2,3],[4,2,6],[6,2,9]]\n",
    "\n",
    "dict_test = dict(zip(key,val))\n",
    "dict_test"
   ]
  },
  {
   "cell_type": "code",
   "execution_count": 22,
   "id": "1ab18821",
   "metadata": {},
   "outputs": [
    {
     "name": "stdout",
     "output_type": "stream",
     "text": [
      "The dictionary after insertion : OrderedDict([('a3', 3), ('a1', 1), ('a2', 5)])\n"
     ]
    }
   ],
   "source": [
    "#5. Write a Python program to insertion at the beginning in OrderedDict\n",
    "from collections import OrderedDict\n",
    " \n",
    "\n",
    "ordered_dict = OrderedDict([('a1', 1), ('a2', 5)])\n",
    " \n",
    "\n",
    "ordered_dict.update({'a3':3})\n",
    "ordered_dict.move_to_end('a3', last = False)\n",
    " \n",
    "# print result\n",
    "print (\"The dictionary after insertion :\",ordered_dict)"
   ]
  },
  {
   "cell_type": "code",
   "execution_count": 72,
   "id": "c7938280",
   "metadata": {},
   "outputs": [
    {
     "name": "stdout",
     "output_type": "stream",
     "text": [
      "False\n"
     ]
    }
   ],
   "source": [
    "#6.Write a Python program to check order of character in string using OrderedDict()?\n",
    "sentence = \"python programming\"\n",
    "char_seq = 'ymg'\n",
    "#Forming the ordered dict with the keys of the sentence\n",
    "dict_test = OrderedDict.fromkeys(sentence) \n",
    "cnt_idx = 0\n",
    "for key in dict_test.keys():\n",
    "    if key == char_seq[cnt_idx]:\n",
    "        cnt_idx += 1\n",
    "    if cnt_idx == len(char_seq):\n",
    "        print(True)\n",
    "        break\n",
    "if cnt_idx != len(char_seq):\n",
    "    print(False)"
   ]
  },
  {
   "cell_type": "code",
   "execution_count": 83,
   "id": "4e9da6d5",
   "metadata": {},
   "outputs": [
    {
     "name": "stdout",
     "output_type": "stream",
     "text": [
      "The resultant dictionary after sorting the keys: {1: 35, 2: 12, 3: 23, 4: 67}\n"
     ]
    }
   ],
   "source": [
    "#7. Sorting a python dictionary by keys\n",
    "dict_test = {3:23,\n",
    "             1:35,\n",
    "             2:12,\n",
    "             4:67}\n",
    "sorted_dict = {}\n",
    "sorted_keys = sorted(list(dict_test.keys()))\n",
    "for _ in sorted_keys:\n",
    "    sorted_dict[_] = dict_test[_]\n",
    "print(\"The resultant dictionary after sorting the keys:\",sorted_dict)"
   ]
  },
  {
   "cell_type": "code",
   "execution_count": null,
   "id": "4f35ec97",
   "metadata": {},
   "outputs": [],
   "source": []
  }
 ],
 "metadata": {
  "kernelspec": {
   "display_name": "Python 3",
   "language": "python",
   "name": "python3"
  },
  "language_info": {
   "codemirror_mode": {
    "name": "ipython",
    "version": 3
   },
   "file_extension": ".py",
   "mimetype": "text/x-python",
   "name": "python",
   "nbconvert_exporter": "python",
   "pygments_lexer": "ipython3",
   "version": "3.8.8"
  }
 },
 "nbformat": 4,
 "nbformat_minor": 5
}
