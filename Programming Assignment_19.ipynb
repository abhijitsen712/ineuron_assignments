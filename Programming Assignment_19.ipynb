{
 "cells": [
  {
   "cell_type": "code",
   "execution_count": 2,
   "id": "ad359921",
   "metadata": {},
   "outputs": [
    {
     "name": "stdout",
     "output_type": "stream",
     "text": [
      "SSttrriinngg\n",
      "HHeelllloo  WWoorrlldd!!\n"
     ]
    }
   ],
   "source": [
    "#1\n",
    "\"\"\"\n",
    "Create a function that takes a string and returns a string in which each character is repeated once.\n",
    "Examples\n",
    "double_char(\"String\") ➞ \"SSttrriinngg\"\n",
    "\n",
    "double_char(\"Hello World!\") ➞ \"HHeelllloo  WWoorrlldd!!\"\n",
    "\n",
    "double_char(\"1234!_ \") ➞ \"11223344!!__  \"\n",
    "\n",
    "\"\"\"\n",
    "def repeatChar(string):\n",
    "    string_ = \"\"\n",
    "    for i in string:\n",
    "        string_ += i*2\n",
    "    return string_\n",
    "print(repeatChar(\"String\"))\n",
    "print(repeatChar(\"Hello World!\"))"
   ]
  },
  {
   "cell_type": "code",
   "execution_count": 10,
   "id": "1ce6692e",
   "metadata": {},
   "outputs": [
    {
     "name": "stdout",
     "output_type": "stream",
     "text": [
      "boolean expected\n",
      "False\n",
      "boolean expected\n"
     ]
    }
   ],
   "source": [
    "#2.\n",
    "\"\"\"\n",
    "Create a function that reverses a boolean value and returns the string \"boolean expected\" if another variable type is given.\n",
    "Examples\n",
    "reverse(True) ➞ False\n",
    "\n",
    "reverse(False) ➞ True\n",
    "\n",
    "reverse(0) ➞ \"boolean expected\"\n",
    "\n",
    "reverse(None) ➞ \"boolean expected\"\n",
    "\"\"\"\n",
    "def reverse(var):\n",
    "    if isinstance(var,bool):\n",
    "        return var\n",
    "    else:\n",
    "        return \"boolean expected\"\n",
    "print(reverse(\"True\"))\n",
    "print(reverse(False))\n",
    "print(reverse(\"False\"))"
   ]
  },
  {
   "cell_type": "code",
   "execution_count": 15,
   "id": "34853494",
   "metadata": {},
   "outputs": [
    {
     "name": "stdout",
     "output_type": "stream",
     "text": [
      "0.008m\n",
      "1048.576m\n"
     ]
    }
   ],
   "source": [
    "#3.\n",
    "\"\"\"\n",
    "Create a function that returns the thickness (in meters) of a piece of paper \n",
    "after folding it n number of times. The paper starts off with a thickness of 0.5mm.\n",
    "\"\"\"\n",
    "def num_layers(n):\n",
    "    t = 2**n*0.0005\n",
    "    return str(t)+\"m\"\n",
    "print(num_layers(4))\n",
    "print(num_layers(21))"
   ]
  },
  {
   "cell_type": "code",
   "execution_count": 20,
   "id": "795a3087",
   "metadata": {},
   "outputs": [
    {
     "name": "stdout",
     "output_type": "stream",
     "text": [
      "[1, 3, 5]\n"
     ]
    }
   ],
   "source": [
    "#4.\n",
    "\"\"\"\n",
    "Create a function that takes a single string as argument and returns an \n",
    "ordered list containing the indices of all capital letters in the string.\n",
    "\n",
    "index_of_caps(\"eDaBiT\") ➞ [1, 3, 5]\n",
    "\"\"\"\n",
    "def index_of_caps(string):\n",
    "    lst = []\n",
    "    for i in range(len(string)):\n",
    "        if string[i].isupper():\n",
    "            lst.append(i)\n",
    "    return lst\n",
    "            \n",
    "print(index_of_caps(\"eDaBiT\"))"
   ]
  },
  {
   "cell_type": "code",
   "execution_count": 25,
   "id": "90ba76e4",
   "metadata": {},
   "outputs": [
    {
     "name": "stdout",
     "output_type": "stream",
     "text": [
      "[2, 4, 6, 8]\n",
      "[2, 4]\n"
     ]
    }
   ],
   "source": [
    "#5.\n",
    "\"\"\"\n",
    "Question5\n",
    "Using list comprehensions, create a function that finds all even numbers from 1 to the given number.\n",
    "Examples\n",
    "find_even_nums(8) ➞ [2, 4, 6, 8]\n",
    "\"\"\"\n",
    "\n",
    "def find_even_nums(num):\n",
    "    return [i for i in range(1,num+1) if i%2 == 0]\n",
    "print(find_even_nums(8))\n",
    "print(find_even_nums(4))"
   ]
  },
  {
   "cell_type": "code",
   "execution_count": null,
   "id": "05fad753",
   "metadata": {},
   "outputs": [],
   "source": []
  }
 ],
 "metadata": {
  "kernelspec": {
   "display_name": "Python 3",
   "language": "python",
   "name": "python3"
  },
  "language_info": {
   "codemirror_mode": {
    "name": "ipython",
    "version": 3
   },
   "file_extension": ".py",
   "mimetype": "text/x-python",
   "name": "python",
   "nbconvert_exporter": "python",
   "pygments_lexer": "ipython3",
   "version": "3.8.8"
  }
 },
 "nbformat": 4,
 "nbformat_minor": 5
}
