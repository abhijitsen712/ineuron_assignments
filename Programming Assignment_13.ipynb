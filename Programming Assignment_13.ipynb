{
 "cells": [
  {
   "cell_type": "code",
   "execution_count": 8,
   "id": "357b5c2f",
   "metadata": {},
   "outputs": [
    {
     "name": "stdout",
     "output_type": "stream",
     "text": [
      "Enter the values separated by comma::100,150,180\n",
      "18,22,24\n"
     ]
    }
   ],
   "source": [
    "#1\n",
    "\"\"\"\n",
    "Write a program that calculates and prints the value according to the given formula:\n",
    "Q = Square root of [(2 * C * D)/H]\n",
    "\"\"\"\n",
    "import math\n",
    "C,H = 50 ,30\n",
    "D = input(\"Enter the values separated by comma::\")\n",
    "D_list = D.split(\",\")\n",
    "D_hat_list = []\n",
    "for D in D_list:\n",
    "    Q = math.sqrt((2*C*int(D))/H)\n",
    "    D_hat_list.append(str(int(Q)))\n",
    "print(\",\".join(D_hat_list))"
   ]
  },
  {
   "cell_type": "code",
   "execution_count": 12,
   "id": "2ae538c7",
   "metadata": {},
   "outputs": [
    {
     "name": "stdout",
     "output_type": "stream",
     "text": [
      "[[0, 0, 0, 0, 0], [0, 1, 2, 3, 4], [0, 2, 4, 6, 8], [0, 3, 6, 9, 12]]\n"
     ]
    }
   ],
   "source": [
    "#2\n",
    "\"\"\"\n",
    "Write a program which takes 2 digits, X,Y as input and generates a 2-dimensional array. The\n",
    "element value in the i-th row and j-th column of the array should be i*j.\n",
    "\"\"\"\n",
    "final_lst = []\n",
    "i,j = 4,5\n",
    "for i_ in range(i):\n",
    "    temp_lst = []\n",
    "    for j_ in range(j):\n",
    "        temp_lst.append(i_*j_)\n",
    "    final_lst.append(temp_lst)\n",
    "print(final_lst)"
   ]
  },
  {
   "cell_type": "code",
   "execution_count": 17,
   "id": "c65c9c64",
   "metadata": {},
   "outputs": [
    {
     "name": "stdout",
     "output_type": "stream",
     "text": [
      "Enter the comma separated words::input,and,generates\n",
      "and,generates,input\n"
     ]
    }
   ],
   "source": [
    "#3\n",
    "\"\"\"\n",
    "Write a program that accepts a comma separated sequence of words as input and prints the\n",
    "words in a comma-separated sequence after sorting them alphabetically.\n",
    "\"\"\"\n",
    "words = input(\"Enter the comma separated words::\")\n",
    "word_lst = words.split(\",\")\n",
    "word_lst.sort()\n",
    "print(\",\".join(word_lst))"
   ]
  },
  {
   "cell_type": "code",
   "execution_count": 19,
   "id": "12ce4e0e",
   "metadata": {},
   "outputs": [
    {
     "name": "stdout",
     "output_type": "stream",
     "text": [
      "Enter the words separated by whitespace:program that accepts sequence accepts\n",
      "accepts program sequence that\n"
     ]
    }
   ],
   "source": [
    "#4.\n",
    "\"\"\"\n",
    "Write a program that accepts a sequence of whitespace separated words as input and prints\n",
    "the words after removing all duplicate words and sorting them alphanumerically.\n",
    "\"\"\"\n",
    "words = input(\"Enter the words separated by whitespace:\")\n",
    "words_unique = list(set(words.split(\" \")))\n",
    "words_unique.sort()\n",
    "print(\" \".join(words_unique))\n"
   ]
  },
  {
   "cell_type": "code",
   "execution_count": 28,
   "id": "b6234d30",
   "metadata": {},
   "outputs": [
    {
     "name": "stdout",
     "output_type": "stream",
     "text": [
      "LETTERS: 10\n",
      "DIGITS: 3\n"
     ]
    }
   ],
   "source": [
    "#5\n",
    "\"\"\"\n",
    "Write a program that accepts a sentence and calculate the number of letters and digits.\n",
    "\"\"\"\n",
    "import re\n",
    "sentence = \"hello world! 123\"\n",
    "\n",
    "\n",
    "print(\"LETTERS:\",len(re.findall(r'[a-zA-Z]',sentence)))\n",
    "print(\"DIGITS:\",len(re.findall(r'\\d',sentence)))"
   ]
  },
  {
   "cell_type": "code",
   "execution_count": 45,
   "id": "3678097e",
   "metadata": {},
   "outputs": [
    {
     "name": "stdout",
     "output_type": "stream",
     "text": [
      "Enter the command separated Passwords:ABd1234@1,a F1#,2w3E*,2We3345\n",
      "ABd1234@1\n"
     ]
    }
   ],
   "source": [
    "#6.\n",
    "\"\"\"\n",
    "A website requires the users to input username and password to register. Write a program to\n",
    "check the validity of password input by users.\n",
    "Following are the criteria for checking the password:\n",
    "1. At least 1 letter between [a-z]\n",
    "2. At least 1 number between [0-9]\n",
    "1. At least 1 letter between [A-Z]\n",
    "3. At least 1 character from [$#@]\n",
    "4. Minimum length of transaction password: 6\n",
    "5. Maximum length of transaction password: 12\n",
    "\"\"\"\n",
    "\n",
    "passwords = input(\"Enter the command separated Passwords:\")\n",
    "accepted_password = []\n",
    "for password in passwords.split(\",\"):\n",
    "\n",
    "#Checks for password\n",
    "    pass_check = True and (len(re.findall(r'[a-z]',password))>0)\\\n",
    "                  and (len(re.findall(r'[A-Z]',password))>0)\\\n",
    "                  and (len(re.findall(r'\\d',password))>0)\\\n",
    "                  and (len(re.findall(r'[$#@]',password))>0)\\\n",
    "                  and (len(password) >5)\\\n",
    "                  and (len(password) <13)\n",
    "    if pass_check == True:\n",
    "        accepted_password.append(password)\n",
    "print(\",\".join(accepted_password))"
   ]
  },
  {
   "cell_type": "code",
   "execution_count": null,
   "id": "daca5fd1",
   "metadata": {},
   "outputs": [],
   "source": []
  },
  {
   "cell_type": "code",
   "execution_count": null,
   "id": "fd546b73",
   "metadata": {},
   "outputs": [],
   "source": []
  }
 ],
 "metadata": {
  "kernelspec": {
   "display_name": "Python 3",
   "language": "python",
   "name": "python3"
  },
  "language_info": {
   "codemirror_mode": {
    "name": "ipython",
    "version": 3
   },
   "file_extension": ".py",
   "mimetype": "text/x-python",
   "name": "python",
   "nbconvert_exporter": "python",
   "pygments_lexer": "ipython3",
   "version": "3.8.8"
  }
 },
 "nbformat": 4,
 "nbformat_minor": 5
}
