{
 "cells": [
  {
   "cell_type": "markdown",
   "id": "0f1d3bc5",
   "metadata": {},
   "source": [
    "1. Write a Python program to convert kilometers to miles?\n",
    "2. Write a Python program to convert Celsius to Fahrenheit?\n",
    "3. Write a Python program to display calendar?\n",
    "4. Write a Python program to solve quadratic equation?\n",
    "5. Write a Python program to swap two variables without temp variable?"
   ]
  },
  {
   "cell_type": "code",
   "execution_count": 6,
   "id": "e6e153ec",
   "metadata": {},
   "outputs": [
    {
     "name": "stdout",
     "output_type": "stream",
     "text": [
      "Enter the value in kilometers::1\n",
      "The number in miles:: 0.6215040397762586\n"
     ]
    }
   ],
   "source": [
    "#1.\n",
    "#We know 1 mile is 1.609 kilometers\n",
    "try:\n",
    "    #Taking user input for the kilometer distance\n",
    "    km = float(input(\"Enter the value in kilometers::\"))\n",
    "    print(\"The number in miles::\",km/1.609)\n",
    "except:\n",
    "    print(\"Enter a valid number\")\n"
   ]
  },
  {
   "cell_type": "code",
   "execution_count": 7,
   "id": "63fdd4b0",
   "metadata": {},
   "outputs": [
    {
     "name": "stdout",
     "output_type": "stream",
     "text": [
      "Enter the value in celcius::30\n",
      "The number in miles:: 86.0\n"
     ]
    }
   ],
   "source": [
    "#2.\n",
    "#We know fahrenheit =  (°C x 1.8) + 32 \n",
    "try:\n",
    "    #Taking user input for the temperature value in celcius\n",
    "    cel = float(input(\"Enter the value in celcius::\"))\n",
    "    print(\"The number in miles::\",cel*1.8+32)\n",
    "except:\n",
    "    print(\"Enter a valid number\")"
   ]
  },
  {
   "cell_type": "code",
   "execution_count": 20,
   "id": "b562a802",
   "metadata": {},
   "outputs": [
    {
     "name": "stdout",
     "output_type": "stream",
     "text": [
      "Enter the year::2000\n",
      "Enter the month::11\n",
      "   November 2000\n",
      "Mo Tu We Th Fr Sa Su\n",
      "       1  2  3  4  5\n",
      " 6  7  8  9 10 11 12\n",
      "13 14 15 16 17 18 19\n",
      "20 21 22 23 24 25 26\n",
      "27 28 29 30\n",
      "\n"
     ]
    }
   ],
   "source": [
    "#3. \n",
    "#I am importing the calendar module to display a particular month of a year\n",
    "import calendar\n",
    "\n",
    "try:\n",
    "    #Taking user input for year and month value\n",
    "    year = int(input(\"Enter the year::\"))\n",
    "    month = int(input(\"Enter the month::\"))\n",
    "    #Taking care of the exception numbers\n",
    "    if (year > 9999 or year < 1) or (month > 12 or month < 1) :\n",
    "        raise Exception(\"\")\n",
    "    print(calendar.month(year, month))\n",
    "except:\n",
    "    print(\"Enter valid month and year\")\n"
   ]
  },
  {
   "cell_type": "code",
   "execution_count": 28,
   "id": "fda601e1",
   "metadata": {},
   "outputs": [
    {
     "name": "stdout",
     "output_type": "stream",
     "text": [
      "Solution for quadratic equation of the form a*x^2 +b*x +c = 0\n",
      "Enter the coefficient of x squared::6\n",
      "Enter the coefficient of x::17\n",
      "Enter the constant value::12\n",
      "The solutions to the quadratic equation are -48.0 and -54.0\n"
     ]
    }
   ],
   "source": [
    "#4.\n",
    "#The solution for a quadratic equation of the form ax^2 + bx + c = 0 is\n",
    "# x = (-b +sqrt(b*b - 4*a*c)/2*a) and x = (-b - sqrt(b*b - 4*a*c)/2*a)\n",
    "import math\n",
    "print(\"Solution for quadratic equation of the form a*x^2 +b*x +c = 0\")\n",
    "try:\n",
    "    a = float(input(\"Enter the coefficient of x squared::\"))\n",
    "    b = float(input(\"Enter the coefficient of x::\"))\n",
    "    c = float(input(\"Enter the constant value::\"))\n",
    "    \n",
    "    x1 = (-b + math.sqrt(b*b - 4*a*c))/2*a\n",
    "    x2 = (-b - math.sqrt(b*b - 4*a*c))/2*a\n",
    "    print(\"The solutions to the quadratic equation are {} and {}\".format(x1,x2))\n",
    "except:\n",
    "    print(\"Enter the coefficients as proper numbers and make sure the equation is solvable\")"
   ]
  },
  {
   "cell_type": "code",
   "execution_count": 30,
   "id": "6d8b7384",
   "metadata": {},
   "outputs": [
    {
     "name": "stdout",
     "output_type": "stream",
     "text": [
      "20 10\n"
     ]
    }
   ],
   "source": [
    "#5.\n",
    "num_1 = 10\n",
    "num_2 = 20\n",
    "\n",
    "num_1, num_2 = num_2, num_1\n",
    "print(num_1, num_2)"
   ]
  },
  {
   "cell_type": "code",
   "execution_count": null,
   "id": "f635f800",
   "metadata": {},
   "outputs": [],
   "source": []
  }
 ],
 "metadata": {
  "kernelspec": {
   "display_name": "Python 3",
   "language": "python",
   "name": "python3"
  },
  "language_info": {
   "codemirror_mode": {
    "name": "ipython",
    "version": 3
   },
   "file_extension": ".py",
   "mimetype": "text/x-python",
   "name": "python",
   "nbconvert_exporter": "python",
   "pygments_lexer": "ipython3",
   "version": "3.8.8"
  }
 },
 "nbformat": 4,
 "nbformat_minor": 5
}
