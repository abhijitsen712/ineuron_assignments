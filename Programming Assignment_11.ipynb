{
 "cells": [
  {
   "cell_type": "markdown",
   "id": "c40c1707",
   "metadata": {},
   "source": [
    "1. Write a Python program to find words which are greater than given length k?\n",
    "2. Write a Python program for removing i-th character from a string?\n",
    "3. Write a Python program to split and join a string?\n",
    "4. Write a Python to check if a given string is binary string or not?\n",
    "5. Write a Python program to find uncommon words from two Strings?\n",
    "6. Write a Python to find all duplicate characters in string?\n",
    "7. Write a Python Program to check if a string contains any special character?"
   ]
  },
  {
   "cell_type": "code",
   "execution_count": 18,
   "id": "886a87c1",
   "metadata": {},
   "outputs": [
    {
     "name": "stdout",
     "output_type": "stream",
     "text": [
      "['media', 'reports', 'photo', 'taken', 'years', 'maker', 'Sergio', 'Loaiza', 'flying', '10000', 'feety', 'above', 'woods', 'Costa', '100lb', 'camera', 'During', 'survey', 'snapped', 'hundreds', 'black', 'white', 'photos', 'surrounding', 'rainforest', 'altitude', 'metres', 'which', 'unique', 'object', 'flying', 'captured']\n"
     ]
    }
   ],
   "source": [
    "import re\n",
    "sentence = \"\"\"\n",
    "As per media reports, the photo was taken 50 years ago by map maker Sergio Loaiza, who was flying at 10,000 \n",
    "feety above the woods of Costa Rica with a 100lb camera. During his map survey, he snapped hundreds of black \n",
    "and white photos of Lake Cote and the surrounding rainforest at an altitude of 3,000 metres, with which a \n",
    "unique object flying in the sky was captured.\n",
    "\"\"\"\n",
    "sentence = re.sub(r'[.,\\n]+',\"\",sentence)\n",
    "\n",
    "#printing words which are of length greater than 4\n",
    "k = 4\n",
    "lst = []\n",
    "for i in sentence.split(\" \"):\n",
    "    if len(i) > 4:\n",
    "        lst.append(i)\n",
    "print(lst)"
   ]
  },
  {
   "cell_type": "code",
   "execution_count": 23,
   "id": "7fc1a1f0",
   "metadata": {},
   "outputs": [
    {
     "name": "stdout",
     "output_type": "stream",
     "text": [
      "Elehant\n"
     ]
    }
   ],
   "source": [
    "#2. removing i-th character from a string\n",
    "word = \"Elephant\"\n",
    "#Here I am removing the 4th character from the string Elephant which is p\n",
    "N = 4\n",
    "word = word.replace(word[N-1],\"\")\n",
    "print(word)"
   ]
  },
  {
   "cell_type": "code",
   "execution_count": 30,
   "id": "37e00c1e",
   "metadata": {},
   "outputs": [
    {
     "name": "stdout",
     "output_type": "stream",
     "text": [
      "The split string is: ['E', 'l', 'e', 'p', 'h', 'a', 'n', 't']\n",
      "The join of the split string is: Elephant\n"
     ]
    }
   ],
   "source": [
    "#3. split and join a string\n",
    "word = \"Elephant\"\n",
    "split_ = list(word)\n",
    "print(\"The split string is:\",split_)\n",
    "join_ = ''.join(split_)\n",
    "print(\"The join of the split string is:\",join_)"
   ]
  },
  {
   "cell_type": "code",
   "execution_count": 44,
   "id": "4e10167e",
   "metadata": {},
   "outputs": [
    {
     "name": "stdout",
     "output_type": "stream",
     "text": [
      "The string is a binary string\n"
     ]
    }
   ],
   "source": [
    "#4. Binary string or not\n",
    "str_ = \"01010101010\"\n",
    "\n",
    "bin_ = True\n",
    "len_ = len(str_)\n",
    "for i in list(str):\n",
    "    try:\n",
    "        ele = int(i)\n",
    "        if (ele == 0) or (ele ==1) :\n",
    "            len_ -= 1\n",
    "    except:\n",
    "        pass\n",
    "if len_ == 0:\n",
    "    print(\"The string is a binary string\")\n",
    "else:\n",
    "    print(\"The string is not a binary string\")"
   ]
  },
  {
   "cell_type": "code",
   "execution_count": 49,
   "id": "dba22f11",
   "metadata": {},
   "outputs": [
    {
     "name": "stdout",
     "output_type": "stream",
     "text": [
      "The uncommong words in the two sentences are: ['apple', 'table', 'a', 'an', 'mango', 'chair']\n"
     ]
    }
   ],
   "source": [
    "#5. uncommon words from two Strings\n",
    "\n",
    "sent_1 = \"There is an apple on the table\"\n",
    "sent_2 = \"There is a mango on the chair\"\n",
    "\n",
    "uncommon = set(sent_1.split(\" \")).symmetric_difference(set(sent_2.split(\" \")))\n",
    "print(\"The uncommong words in the two sentences are:\",list(uncommon))"
   ]
  },
  {
   "cell_type": "code",
   "execution_count": 80,
   "id": "1bec6919",
   "metadata": {},
   "outputs": [
    {
     "name": "stdout",
     "output_type": "stream",
     "text": [
      "The character h is in ['There', 'the']\n",
      "The character l is in ['apple', 'table']\n",
      "The character a is in ['an', 'apple', 'table']\n",
      "The character e is in ['There', 'apple', 'the', 'table']\n",
      "The character p is in ['apple']\n",
      "The character n is in ['an', 'on']\n",
      "The character t is in ['the', 'table']\n"
     ]
    }
   ],
   "source": [
    "#6. duplicate characters in string\n",
    "string = \"There is an apple on the table\"\n",
    "for i in set(list(string.replace(\" \",\"\"))):\n",
    "    if string.count(i) > 1:\n",
    "        lst = string.split(\" \")\n",
    "        temp_lst = []\n",
    "        for ele in lst:\n",
    "            if i in ele:\n",
    "                temp_lst.append(ele)\n",
    "        print(\"The character {} is in {}\".format(i,temp_lst))"
   ]
  },
  {
   "cell_type": "code",
   "execution_count": 88,
   "id": "81d07d68",
   "metadata": {},
   "outputs": [
    {
     "name": "stdout",
     "output_type": "stream",
     "text": [
      "The string has special characters = ['!!', '.']\n"
     ]
    }
   ],
   "source": [
    "#7. string contains any special character\n",
    "string = 'Alas!! He has lost the game.'\n",
    "string = re.sub(r'[ ]+',\"\",string)\n",
    "lst = re.findall(r'[^\\w]+',string)\n",
    "if len(lst) > 0:\n",
    "    print(\"The string has special characters = {}\".format(lst))\n",
    "else:\n",
    "    print(\"The string does not have any special character\")"
   ]
  },
  {
   "cell_type": "code",
   "execution_count": null,
   "id": "58b8687c",
   "metadata": {},
   "outputs": [],
   "source": []
  }
 ],
 "metadata": {
  "kernelspec": {
   "display_name": "Python 3",
   "language": "python",
   "name": "python3"
  },
  "language_info": {
   "codemirror_mode": {
    "name": "ipython",
    "version": 3
   },
   "file_extension": ".py",
   "mimetype": "text/x-python",
   "name": "python",
   "nbconvert_exporter": "python",
   "pygments_lexer": "ipython3",
   "version": "3.8.8"
  }
 },
 "nbformat": 4,
 "nbformat_minor": 5
}
