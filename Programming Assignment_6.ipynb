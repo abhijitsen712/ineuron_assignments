{
 "cells": [
  {
   "cell_type": "markdown",
   "id": "2de7544b",
   "metadata": {},
   "source": [
    "1. Write a Python Program to Display Fibonacci Sequence Using Recursion?\n",
    "2. Write a Python Program to Find Factorial of Number Using Recursion?\n",
    "3. Write a Python Program to calculate your Body Mass Index?\n",
    "4. Write a Python Program to calculate the natural logarithm of any number?\n",
    "5. Write a Python Program for cube sum of first n natural numbers?"
   ]
  },
  {
   "cell_type": "code",
   "execution_count": 2,
   "id": "5477fc8e",
   "metadata": {},
   "outputs": [
    {
     "name": "stdout",
     "output_type": "stream",
     "text": [
      "1\n",
      "2\n",
      "3\n",
      "5\n",
      "8\n",
      "13\n",
      "21\n",
      "34\n",
      "55\n",
      "89\n"
     ]
    }
   ],
   "source": [
    "#1. Fibonacci series for n= number_of_terms\n",
    "\n",
    "number_of_terms = 10\n",
    "\n",
    "def fib(num):\n",
    "    if num <= 1:\n",
    "        return 1\n",
    "    else:\n",
    "        return fib(num-1) + fib(num-2)\n",
    "    \n",
    "for i in range(1,number_of_terms+1):\n",
    "    print(fib(i))"
   ]
  },
  {
   "cell_type": "code",
   "execution_count": 5,
   "id": "50b92883",
   "metadata": {},
   "outputs": [
    {
     "name": "stdout",
     "output_type": "stream",
     "text": [
      "120\n"
     ]
    }
   ],
   "source": [
    "#2. Factorial using recursion\n",
    "\n",
    "number = 5\n",
    "\n",
    "def fact(n):\n",
    "    if n <= 1:\n",
    "        return 1\n",
    "    else:\n",
    "        return n*fact(n-1)\n",
    "    \n",
    "print(fact(number))"
   ]
  },
  {
   "cell_type": "code",
   "execution_count": 7,
   "id": "528aa9b0",
   "metadata": {},
   "outputs": [
    {
     "name": "stdout",
     "output_type": "stream",
     "text": [
      "Body mass index is:: 21.484374999999996\n"
     ]
    }
   ],
   "source": [
    "#3.Write a Python Program to calculate your Body Mass Index?\n",
    "weight_in_kg = 55\n",
    "height_in_mt = 1.6\n",
    "\n",
    "bmi = weight_in_kg/(height_in_mt**2)\n",
    "\n",
    "print(\"Body mass index is::\",bmi)"
   ]
  },
  {
   "cell_type": "code",
   "execution_count": 8,
   "id": "4a02876b",
   "metadata": {},
   "outputs": [
    {
     "name": "stdout",
     "output_type": "stream",
     "text": [
      "Natural log of 10 is 2.302585092994046\n"
     ]
    }
   ],
   "source": [
    "#4. Write a Python Program to calculate the natural logarithm of any number\n",
    "import math\n",
    "\n",
    "num = 10\n",
    "\n",
    "print(\"Natural log of {} is {}\".format(num, math.log(num)))"
   ]
  },
  {
   "cell_type": "code",
   "execution_count": 11,
   "id": "34f3ebf0",
   "metadata": {},
   "outputs": [
    {
     "name": "stdout",
     "output_type": "stream",
     "text": [
      "The sum of the cubes of the first 10 natural numbers is 3025\n"
     ]
    }
   ],
   "source": [
    "#5. Write a Python Program for cube sum of first n natural numbers\n",
    "num_of_terms = 10\n",
    "sum = 0\n",
    "\n",
    "for i in range(1,num_of_terms+1):\n",
    "    sum += i**3\n",
    "print(\"The sum of the cubes of the first {} natural numbers is {}\".format(num_of_terms,sum))"
   ]
  },
  {
   "cell_type": "code",
   "execution_count": null,
   "id": "db860de1",
   "metadata": {},
   "outputs": [],
   "source": []
  }
 ],
 "metadata": {
  "kernelspec": {
   "display_name": "Python 3",
   "language": "python",
   "name": "python3"
  },
  "language_info": {
   "codemirror_mode": {
    "name": "ipython",
    "version": 3
   },
   "file_extension": ".py",
   "mimetype": "text/x-python",
   "name": "python",
   "nbconvert_exporter": "python",
   "pygments_lexer": "ipython3",
   "version": "3.8.8"
  }
 },
 "nbformat": 4,
 "nbformat_minor": 5
}
