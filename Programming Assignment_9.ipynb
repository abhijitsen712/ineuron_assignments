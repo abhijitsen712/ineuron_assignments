{
 "cells": [
  {
   "cell_type": "markdown",
   "id": "4414bea7",
   "metadata": {},
   "source": [
    "1. Write a Python program to check if the given number is a Disarium Number?\n",
    "2. Write a Python program to print all disarium numbers between 1 to 100?\n",
    "3. Write a Python program to check if the given number is Happy Number?\n",
    "4. Write a Python program to print all happy numbers between 1 and 100?\n",
    "5. Write a Python program to determine whether the given number is a Harshad Number?\n",
    "6. Write a Python program to print all pronic numbers between 1 and 100?"
   ]
  },
  {
   "cell_type": "code",
   "execution_count": 16,
   "id": "68e29601",
   "metadata": {},
   "outputs": [
    {
     "name": "stdout",
     "output_type": "stream",
     "text": [
      "The number 135 is a Disarium number\n"
     ]
    }
   ],
   "source": [
    "#1. Write a Python program to check if the given number is a Disarium Number\n",
    "num = 135\n",
    "\n",
    "def disarium(num):\n",
    "    num_lst = list(str(num))\n",
    "    num_ = 0\n",
    "\n",
    "    for i in range(len(num_lst)):\n",
    "        num_ += int(num_lst[i])**(i+1)\n",
    "\n",
    "    if num == num_:\n",
    "        print(\"The number {} is a Disarium number\".format(num))\n",
    "    else:\n",
    "        print(\"The number {} is not a Disarium number\".format(num))\n",
    "disarium(num)"
   ]
  },
  {
   "cell_type": "code",
   "execution_count": 18,
   "id": "b078904f",
   "metadata": {},
   "outputs": [
    {
     "name": "stdout",
     "output_type": "stream",
     "text": [
      "The number 1 is a Disarium number\n",
      "The number 2 is a Disarium number\n",
      "The number 3 is a Disarium number\n",
      "The number 4 is a Disarium number\n",
      "The number 5 is a Disarium number\n",
      "The number 6 is a Disarium number\n",
      "The number 7 is a Disarium number\n",
      "The number 8 is a Disarium number\n",
      "The number 9 is a Disarium number\n",
      "The number 89 is a Disarium number\n"
     ]
    }
   ],
   "source": [
    "#2. Write a Python program to print all disarium numbers between 1 to 100\n",
    "\n",
    "def disarium(num):\n",
    "    num_lst = list(str(num))\n",
    "    num_ = 0\n",
    "\n",
    "    for i in range(len(num_lst)):\n",
    "        num_ += int(num_lst[i])**(i+1)\n",
    "\n",
    "    if num == num_:\n",
    "        print(\"The number {} is a Disarium number\".format(num))\n",
    "for i in range(1,101):\n",
    "    disarium(i)"
   ]
  },
  {
   "cell_type": "code",
   "execution_count": 58,
   "id": "37d7913f",
   "metadata": {},
   "outputs": [
    {
     "name": "stdout",
     "output_type": "stream",
     "text": [
      "The number 44 is a happy number\n"
     ]
    }
   ],
   "source": [
    "#3. Write a Python program to check if the given number is Happy Number\n",
    "\n",
    "num = 44\n",
    "\n",
    "\n",
    "def check_happy(num):\n",
    "    ori_num = num\n",
    "    while(num > 9):\n",
    "        sum = 0\n",
    "        while(num > 0):\n",
    "            sum += (num%10)**2\n",
    "            num = int(num/10)\n",
    "        num = sum\n",
    "    if num == 1:\n",
    "        print(\"The number {} is a happy number\".format(ori_num))\n",
    "    else:\n",
    "        print(\"The number {} is not a happy number\".format(ori_num))\n",
    "check_happy(num)"
   ]
  },
  {
   "cell_type": "code",
   "execution_count": 59,
   "id": "3ac5226f",
   "metadata": {},
   "outputs": [
    {
     "name": "stdout",
     "output_type": "stream",
     "text": [
      "The number 1 is a happy number\n",
      "The number 10 is a happy number\n",
      "The number 13 is a happy number\n",
      "The number 19 is a happy number\n",
      "The number 23 is a happy number\n",
      "The number 28 is a happy number\n",
      "The number 31 is a happy number\n",
      "The number 32 is a happy number\n",
      "The number 44 is a happy number\n",
      "The number 49 is a happy number\n",
      "The number 68 is a happy number\n",
      "The number 70 is a happy number\n",
      "The number 79 is a happy number\n",
      "The number 82 is a happy number\n",
      "The number 86 is a happy number\n",
      "The number 91 is a happy number\n",
      "The number 94 is a happy number\n",
      "The number 97 is a happy number\n",
      "The number 100 is a happy number\n"
     ]
    }
   ],
   "source": [
    "#4.Write a Python program to print all happy numbers between 1 and 100\n",
    "\n",
    "def check_happy(num):\n",
    "    ori_num = num\n",
    "    while(num > 9):\n",
    "        sum = 0\n",
    "        while(num > 0):\n",
    "            sum += (num%10)**2\n",
    "            num = int(num/10)\n",
    "        num = sum\n",
    "    \n",
    "    if num == 1:\n",
    "        print(\"The number {} is a happy number\".format(ori_num))\n",
    "    \n",
    "for i in range(1,101):\n",
    "    check_happy(i)"
   ]
  },
  {
   "cell_type": "code",
   "execution_count": 69,
   "id": "e7072e01",
   "metadata": {},
   "outputs": [
    {
     "name": "stdout",
     "output_type": "stream",
     "text": [
      "The number 6804 is a harshad number\n"
     ]
    }
   ],
   "source": [
    "#5. Write a Python program to determine whether the given number is a Harshad Number?\n",
    "num = 6804\n",
    "ori_num = num\n",
    "sum = 0\n",
    "while(num > 0):\n",
    "    sum += num%10\n",
    "    num = int(num/10)\n",
    "if ori_num%sum == 0:\n",
    "    print(\"The number {} is a harshad number\".format(ori_num))\n",
    "else:\n",
    "    print(\"The number {} is not a harshad number\".format(ori_num))"
   ]
  },
  {
   "cell_type": "code",
   "execution_count": 70,
   "id": "081809dd",
   "metadata": {},
   "outputs": [
    {
     "name": "stdout",
     "output_type": "stream",
     "text": [
      "The number 1 is a harshad number\n",
      "The number 2 is a harshad number\n",
      "The number 3 is a harshad number\n",
      "The number 4 is a harshad number\n",
      "The number 5 is a harshad number\n",
      "The number 6 is a harshad number\n",
      "The number 7 is a harshad number\n",
      "The number 8 is a harshad number\n",
      "The number 9 is a harshad number\n",
      "The number 10 is a harshad number\n",
      "The number 12 is a harshad number\n",
      "The number 18 is a harshad number\n",
      "The number 20 is a harshad number\n",
      "The number 21 is a harshad number\n",
      "The number 24 is a harshad number\n",
      "The number 27 is a harshad number\n",
      "The number 30 is a harshad number\n",
      "The number 36 is a harshad number\n",
      "The number 40 is a harshad number\n",
      "The number 42 is a harshad number\n",
      "The number 45 is a harshad number\n",
      "The number 48 is a harshad number\n",
      "The number 50 is a harshad number\n",
      "The number 54 is a harshad number\n",
      "The number 60 is a harshad number\n",
      "The number 63 is a harshad number\n",
      "The number 70 is a harshad number\n",
      "The number 72 is a harshad number\n",
      "The number 80 is a harshad number\n",
      "The number 81 is a harshad number\n",
      "The number 84 is a harshad number\n",
      "The number 90 is a harshad number\n",
      "The number 100 is a harshad number\n"
     ]
    }
   ],
   "source": [
    "#6. Write a Python program to print all pronic numbers between 1 and 100\n",
    "def check_happy(num):\n",
    "    ori_num = num\n",
    "    sum = 0\n",
    "    while(num > 0):\n",
    "        sum += num%10\n",
    "        num = int(num/10)\n",
    "    if ori_num%sum == 0:\n",
    "        print(\"The number {} is a harshad number\".format(ori_num))\n",
    "    \n",
    "for i in range(1,101):\n",
    "    check_happy(i)"
   ]
  },
  {
   "cell_type": "code",
   "execution_count": null,
   "id": "507d810d",
   "metadata": {},
   "outputs": [],
   "source": []
  }
 ],
 "metadata": {
  "kernelspec": {
   "display_name": "Python 3",
   "language": "python",
   "name": "python3"
  },
  "language_info": {
   "codemirror_mode": {
    "name": "ipython",
    "version": 3
   },
   "file_extension": ".py",
   "mimetype": "text/x-python",
   "name": "python",
   "nbconvert_exporter": "python",
   "pygments_lexer": "ipython3",
   "version": "3.8.8"
  }
 },
 "nbformat": 4,
 "nbformat_minor": 5
}
