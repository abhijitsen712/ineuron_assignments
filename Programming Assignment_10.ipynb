{
 "cells": [
  {
   "cell_type": "markdown",
   "id": "bd3e6f36",
   "metadata": {},
   "source": [
    "1. Write a Python program to find sum of elements in list?\n",
    "2. Write a Python program to Multiply all numbers in the list?\n",
    "3. Write a Python program to find smallest number in a list?\n",
    "4. Write a Python program to find largest number in a list?\n",
    "5. Write a Python program to find second largest number in a list?\n",
    "6. Write a Python program to find N largest elements from a list?\n",
    "7. Write a Python program to print even numbers in a list?\n",
    "8. Write a Python program to print odd numbers in a List?\n",
    "9. Write a Python program to Remove empty List from List?\n",
    "10. Write a Python program to Cloning or Copying a list?\n",
    "11. Write a Python program to Count occurrences of an element in a list?"
   ]
  },
  {
   "cell_type": "code",
   "execution_count": 1,
   "id": "12bda9c7",
   "metadata": {},
   "outputs": [
    {
     "name": "stdout",
     "output_type": "stream",
     "text": [
      "The sum of the elements in the list is:: 19\n"
     ]
    }
   ],
   "source": [
    "#1. sum of elements in a list\n",
    "lst = [1,4,3,5,6]\n",
    "sum = 0\n",
    "for _ in lst:\n",
    "    sum += _\n",
    "print(\"The sum of the elements in the list is::\",sum)"
   ]
  },
  {
   "cell_type": "code",
   "execution_count": 3,
   "id": "53524b01",
   "metadata": {},
   "outputs": [
    {
     "name": "stdout",
     "output_type": "stream",
     "text": [
      "The product of the elements in the list is:: 360\n"
     ]
    }
   ],
   "source": [
    "#2. Multiply all numbers in the list\n",
    "lst = [1,4,3,5,6]\n",
    "mul = 1\n",
    "for i in lst:\n",
    "    mul *= i\n",
    "print(\"The product of the elements in the list is::\",mul)"
   ]
  },
  {
   "cell_type": "code",
   "execution_count": 4,
   "id": "c31c0a29",
   "metadata": {},
   "outputs": [
    {
     "name": "stdout",
     "output_type": "stream",
     "text": [
      "The smallest number in the list is 1\n"
     ]
    }
   ],
   "source": [
    "#3. smallest number in a list\n",
    "lst = [1,4,3,5,6]\n",
    "\n",
    "print(\"The smallest number in the list is\",min(lst))"
   ]
  },
  {
   "cell_type": "code",
   "execution_count": 5,
   "id": "75b43a51",
   "metadata": {},
   "outputs": [
    {
     "name": "stdout",
     "output_type": "stream",
     "text": [
      "The largest number in the list is 6\n"
     ]
    }
   ],
   "source": [
    "#4. largest number in a list\n",
    "lst = [1,4,3,5,6]\n",
    "\n",
    "print(\"The largest number in the list is\",max(lst))"
   ]
  },
  {
   "cell_type": "code",
   "execution_count": 11,
   "id": "820ac50e",
   "metadata": {},
   "outputs": [
    {
     "name": "stdout",
     "output_type": "stream",
     "text": [
      "The second largest number in the list is:: 5\n"
     ]
    }
   ],
   "source": [
    "#5. second largest number in a list\n",
    "lst = [1,4,3,5,6]\n",
    "\n",
    "lst.remove(max(lst))\n",
    "print(\"The second largest number in the list is::\",max(lst))\n"
   ]
  },
  {
   "cell_type": "code",
   "execution_count": 12,
   "id": "dce1b61f",
   "metadata": {},
   "outputs": [
    {
     "name": "stdout",
     "output_type": "stream",
     "text": [
      "6\n",
      "5\n",
      "4\n"
     ]
    }
   ],
   "source": [
    "#6. N largest elements from a list\n",
    "lst = lst = [1,4,3,5,6]\n",
    "N = 3\n",
    "for i in range(N):\n",
    "    print(max(lst))\n",
    "    lst.remove(max(lst))"
   ]
  },
  {
   "cell_type": "code",
   "execution_count": 14,
   "id": "082687fd",
   "metadata": {},
   "outputs": [
    {
     "name": "stdout",
     "output_type": "stream",
     "text": [
      "4\n",
      "6\n"
     ]
    }
   ],
   "source": [
    "#7. even numbers in a list\n",
    "lst = [1,4,3,5,6]\n",
    "for i in lst:\n",
    "    if i % 2 == 0:\n",
    "        print(i)"
   ]
  },
  {
   "cell_type": "code",
   "execution_count": 15,
   "id": "dc836cd7",
   "metadata": {},
   "outputs": [
    {
     "name": "stdout",
     "output_type": "stream",
     "text": [
      "1\n",
      "3\n",
      "5\n"
     ]
    }
   ],
   "source": [
    "#8. odd numbers in a List\n",
    "lst = [1,4,3,5,6]\n",
    "for i in lst:\n",
    "    if i % 2 == 1:\n",
    "        print(i)"
   ]
  },
  {
   "cell_type": "code",
   "execution_count": 19,
   "id": "cafe016c",
   "metadata": {},
   "outputs": [
    {
     "name": "stdout",
     "output_type": "stream",
     "text": [
      "[[1, 4], [], [3, 3, 5, 2], [], [5, 6]]\n",
      "[[1, 4], [3, 3, 5, 2], [5, 6]]\n"
     ]
    }
   ],
   "source": [
    "#9. empty List from List\n",
    "lst = [[1,4],[],[3,3,5,2],[],[5,6]]\n",
    "\n",
    "print(lst)\n",
    "\n",
    "for i in lst:\n",
    "    if len(i) ==  0:\n",
    "        lst.remove(i)\n",
    "print(lst)"
   ]
  },
  {
   "cell_type": "code",
   "execution_count": 21,
   "id": "2c989e45",
   "metadata": {},
   "outputs": [
    {
     "name": "stdout",
     "output_type": "stream",
     "text": [
      "[1, 4, 3, 5, 6]\n",
      "[1, 4, 3, 5, 6, 34]\n"
     ]
    }
   ],
   "source": [
    "#10. Cloning or Copying a list\n",
    "lst = [1,4,3,5,6]\n",
    "\n",
    "#The new list is a copy of the old list\n",
    "lst_1 = lst.copy()\n",
    "\n",
    "lst_1.append(34)\n",
    "print(lst)\n",
    "print(lst_1)"
   ]
  },
  {
   "cell_type": "code",
   "execution_count": 22,
   "id": "27949d64",
   "metadata": {},
   "outputs": [
    {
     "name": "stdout",
     "output_type": "stream",
     "text": [
      "The number of occurances of 4 is 4\n"
     ]
    }
   ],
   "source": [
    "#11. Count occurrences of an element in a list\n",
    "lst = [1,4,3,5,6,4,5,4,3,2,6,5,4]\n",
    "num =4\n",
    "print(\"The number of occurances of {} is {}\".format(num,lst.count(num)))"
   ]
  },
  {
   "cell_type": "code",
   "execution_count": null,
   "id": "b1d9efc2",
   "metadata": {},
   "outputs": [],
   "source": []
  }
 ],
 "metadata": {
  "kernelspec": {
   "display_name": "Python 3",
   "language": "python",
   "name": "python3"
  },
  "language_info": {
   "codemirror_mode": {
    "name": "ipython",
    "version": 3
   },
   "file_extension": ".py",
   "mimetype": "text/x-python",
   "name": "python",
   "nbconvert_exporter": "python",
   "pygments_lexer": "ipython3",
   "version": "3.8.8"
  }
 },
 "nbformat": 4,
 "nbformat_minor": 5
}
