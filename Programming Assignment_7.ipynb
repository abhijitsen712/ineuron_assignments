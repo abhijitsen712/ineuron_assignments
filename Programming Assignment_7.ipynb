{
 "cells": [
  {
   "cell_type": "markdown",
   "id": "25a1eeb2",
   "metadata": {},
   "source": [
    "1. Write a Python Program to find sum of array?\n",
    "2. Write a Python Program to find largest element in an array?\n",
    "3. Write a Python Program for array rotation?\n",
    "4. Write a Python Program to Split the array and add the first part to the end?\n",
    "5. Write a Python Program to check if given array is Monotonic?"
   ]
  },
  {
   "cell_type": "code",
   "execution_count": 1,
   "id": "bdb71ec8",
   "metadata": {},
   "outputs": [],
   "source": [
    "import numpy as np\n"
   ]
  },
  {
   "cell_type": "code",
   "execution_count": 3,
   "id": "9de2f952",
   "metadata": {},
   "outputs": [
    {
     "name": "stdout",
     "output_type": "stream",
     "text": [
      "[1 2 3 4 5 6 7 8 9]\n"
     ]
    }
   ],
   "source": [
    "array_ = np.array([1,2,3,4,5,6,7,8,9])\n",
    "print(array_)"
   ]
  },
  {
   "cell_type": "code",
   "execution_count": 4,
   "id": "5210832c",
   "metadata": {},
   "outputs": [
    {
     "name": "stdout",
     "output_type": "stream",
     "text": [
      "The sum of the array is:: 45\n"
     ]
    }
   ],
   "source": [
    "#1. sum of the array element\n",
    "print(\"The sum of the array is::\",np.sum(array_))"
   ]
  },
  {
   "cell_type": "code",
   "execution_count": 6,
   "id": "6c3eea00",
   "metadata": {},
   "outputs": [
    {
     "name": "stdout",
     "output_type": "stream",
     "text": [
      "The sum of the array is:: 45\n"
     ]
    }
   ],
   "source": [
    "#or\n",
    "sum = 0\n",
    "for i in array_:\n",
    "    sum += i\n",
    "print(\"The sum of the array is::\",sum)"
   ]
  },
  {
   "cell_type": "code",
   "execution_count": 5,
   "id": "207eef98",
   "metadata": {},
   "outputs": [
    {
     "name": "stdout",
     "output_type": "stream",
     "text": [
      "The largest element in the array:: 9\n"
     ]
    }
   ],
   "source": [
    "#2. The largest element in the array\n",
    "print(\"The largest element in the array::\",np.max(array_))"
   ]
  },
  {
   "cell_type": "code",
   "execution_count": 7,
   "id": "1367a275",
   "metadata": {},
   "outputs": [
    {
     "name": "stdout",
     "output_type": "stream",
     "text": [
      "The largest element in the array:: 9\n"
     ]
    }
   ],
   "source": [
    "#or\n",
    "max_ = array_[0]\n",
    "for i in array_:\n",
    "    if i > max_:\n",
    "        max_ = i\n",
    "print(\"The largest element in the array::\",max_)"
   ]
  },
  {
   "cell_type": "code",
   "execution_count": 16,
   "id": "b6dd7878",
   "metadata": {},
   "outputs": [
    {
     "name": "stdout",
     "output_type": "stream",
     "text": [
      "The original array: [1 2 3 4 5 6 7 8 9]\n",
      "The rotated array after shifting by 1 places is [9 1 2 3 4 5 6 7 8]\n"
     ]
    }
   ],
   "source": [
    "#3. Write a Python Program for array rotation\n",
    "\n",
    "#My custom program for array rotation to the right by number of elements = num_ele_to_rotate_right\n",
    "\n",
    "#The original array is array_\n",
    "array_ = np.array([1,2,3,4,5,6,7,8,9])\n",
    "#The number of shifts to the right\n",
    "num_ele_to_rotate_right = 1\n",
    "\n",
    "#New array to hold the rotated array\n",
    "rot_arr = np.zeros(len(array_), dtype= int)\n",
    "\n",
    "for i in range(len(array_)):\n",
    "    new_idx = i + num_ele_to_rotate_right\n",
    "    if new_idx > len(array_) -1:\n",
    "        new_idx -= len(array_)\n",
    "    rot_arr[new_idx] = array_[i]\n",
    "\n",
    "print(\"The original array:\",array_)\n",
    "print(\"The rotated array after shifting by {} places is {}\".format(num_ele_to_rotate_right,rot_arr))    \n",
    "    \n"
   ]
  },
  {
   "cell_type": "code",
   "execution_count": 17,
   "id": "dd107d3f",
   "metadata": {},
   "outputs": [
    {
     "data": {
      "text/plain": [
       "array([5, 6, 7, 8, 9, 1, 2, 3, 4])"
      ]
     },
     "execution_count": 17,
     "metadata": {},
     "output_type": "execute_result"
    }
   ],
   "source": [
    "#4. Write a Python Program to Split the array and add the first part to the end\n",
    "\n",
    "array_ = np.array([1,2,3,4,5,6,7,8,9])\n",
    "\n",
    "#The index to split\n",
    "split_idx = 4\n",
    "\n",
    "array_1 = array_[:4]\n",
    "array_2 = array_[4:]\n",
    "\n",
    "result_array = np.append(array_2,array_1)\n",
    "result_array"
   ]
  },
  {
   "cell_type": "code",
   "execution_count": 41,
   "id": "19431d07",
   "metadata": {},
   "outputs": [
    {
     "name": "stdout",
     "output_type": "stream",
     "text": [
      "The array is monotonic\n"
     ]
    }
   ],
   "source": [
    "# 5.Write a Python Program to check if given array is Monotonic\n",
    "\n",
    "#Custom program for the same\n",
    "#We need to check if the elements are in increasing or decreasing order\n",
    "\n",
    "array_ = np.array([9,6,4,1])\n",
    "polarity_lst = []\n",
    "\n",
    "for i in range(len(array_)-1):\n",
    "    if array_[i] > array_[i+1]:\n",
    "        polarity_lst.append(int(1))\n",
    "    else:\n",
    "        polarity_lst.append(int(-1))\n",
    "#We would now check if all the elements are equal\n",
    "sum = 0\n",
    "for i in polarity_lst:\n",
    "    sum += i\n",
    "if abs(sum) == len(polarity_lst):\n",
    "    print(\"The array is monotonic\")\n",
    "else:\n",
    "    print(\"The array is non-monotonic\")"
   ]
  },
  {
   "cell_type": "code",
   "execution_count": null,
   "id": "2b0d9c66",
   "metadata": {},
   "outputs": [],
   "source": []
  }
 ],
 "metadata": {
  "kernelspec": {
   "display_name": "Python 3",
   "language": "python",
   "name": "python3"
  },
  "language_info": {
   "codemirror_mode": {
    "name": "ipython",
    "version": 3
   },
   "file_extension": ".py",
   "mimetype": "text/x-python",
   "name": "python",
   "nbconvert_exporter": "python",
   "pygments_lexer": "ipython3",
   "version": "3.8.8"
  }
 },
 "nbformat": 4,
 "nbformat_minor": 5
}
